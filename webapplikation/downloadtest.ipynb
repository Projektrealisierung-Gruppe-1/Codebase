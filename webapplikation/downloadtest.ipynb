{
 "cells": [
  {
   "cell_type": "markdown",
   "metadata": {},
   "source": [
    "# PDF"
   ]
  },
  {
   "cell_type": "code",
   "execution_count": 19,
   "metadata": {},
   "outputs": [
    {
     "data": {
      "text/plain": [
       "''"
      ]
     },
     "execution_count": 19,
     "metadata": {},
     "output_type": "execute_result"
    }
   ],
   "source": [
    "from fpdf import FPDF\n",
    " \n",
    " \n",
    "# save FPDF() class into a\n",
    "# variable pdf\n",
    "pdf = FPDF()\n",
    " \n",
    "# Add a page\n",
    "pdf.add_page()\n",
    " \n",
    "# set style and size of font\n",
    "# that you want in the pdf\n",
    "pdf.set_font(\"Arial\", \"B\", size = 18)\n",
    "zsmtxt = \"\"\"From our initial set of meetings with the traders regarding consolidated positions, I think we still have the following issues: We don't have a single point of contact from the trading group. We've had three meetings which brought out very different issues from different traders. We really need a single point of contact to help drive the trader requirements and help come to a consensus regarding the requirements. We're getting hit with a lot of different requests, many of which appear to be outside the scope of position consolidation. Go through the list of requests to determine which are in scope for this project and which fall out of scope. Use the above to formulate a project plan. New drill down in the position manager to break out positions by: physical, transport, swaps, options, ... Addition of a curve tab to the position manager to show the real-time values of all curves on which the desk has a position. Each grouped column in the top grid would be tied to a grouped column in the bottom grid. Ability to handle volatility skew and correlations. Ability to revalue all options incrementally throughout the trading day. Eliminate change deals with no economic impact from the TDS deal ticker. Implicit and explicit position break out issues\"\"\"\n",
    "kltxt = \"Der Text ist aus der Kategorie LABEL_1.\"\n",
    "senttxt = \"Mit einer Wahrscheinlichkeit von 98.63% sagt das Modell voraus, dass dieser Text POSITIVE ist.\"\n",
    "\n",
    "# create a cell\n",
    "pdf.cell(200, 10, txt = \"Projektrealisierung Download-Bericht\",\n",
    "         ln = 1, align = 'C')\n",
    "\n",
    "pdf.set_font(\"Arial\", \"U\",size = 14)\n",
    "pdf.cell(200, 10, txt = \"Original Text\",\n",
    "         ln = 1, align = 'L')\n",
    "pdf.set_font(\"Arial\", size = 12)\n",
    "# add another cell\n",
    "pdf.multi_cell(200, 5, txt = zsmtxt, align = 'L')\n",
    "pdf.set_font(\"Arial\", \"U\", size = 14)\n",
    "pdf.cell(200, 10, txt = \"Text Zusammenfassung\",\n",
    "         ln = 1, align = 'L')\n",
    "pdf.set_font(\"Arial\", size = 12)\n",
    "# add another cell\n",
    "pdf.multi_cell(200, 5, txt = zsmtxt, align = 'L')\n",
    "\n",
    "pdf.set_font(\"Arial\",\"U\", size = 14)\n",
    "pdf.cell(200, 15, txt = \"Text Klassifizierung\",\n",
    "         ln = 1, align = 'L')\n",
    "pdf.set_font(\"Arial\", size = 12)\n",
    "pdf.multi_cell(200, 5, txt = kltxt, align = 'L')\n",
    "\n",
    "\n",
    "pdf.set_font(\"Arial\",\"U\", size = 14)\n",
    "pdf.cell(200, 15, txt = \"Text Sentiment\",\n",
    "         ln = 1, align = 'L')\n",
    "pdf.set_font(\"Arial\", size = 12)\n",
    "pdf.multi_cell(200, 5, txt = senttxt, align = 'L')\n",
    "\n",
    "# save the pdf with name .pdf\n",
    "pdf.output(\"test.pdf\")  "
   ]
  },
  {
   "cell_type": "code",
   "execution_count": 21,
   "metadata": {},
   "outputs": [],
   "source": [
    "from docx import Document\n",
    "from docx.shared import Inches\n",
    "\n",
    "document = Document()\n",
    "zsmtxt = \"\"\"From our initial set of meetings with the traders regarding consolidated positions, I think we still have the following issues: We don't have a single point of contact from the trading group. We've had three meetings which brought out very different issues from different traders. We really need a single point of contact to help drive the trader requirements and help come to a consensus regarding the requirements. We're getting hit with a lot of different requests, many of which appear to be outside the scope of position consolidation. Go through the list of requests to determine which are in scope for this project and which fall out of scope. Use the above to formulate a project plan. New drill down in the position manager to break out positions by: physical, transport, swaps, options, ... Addition of a curve tab to the position manager to show the real-time values of all curves on which the desk has a position. Each grouped column in the top grid would be tied to a grouped column in the bottom grid. Ability to handle volatility skew and correlations. Ability to revalue all options incrementally throughout the trading day. Eliminate change deals with no economic impact from the TDS deal ticker. Implicit and explicit position break out issues\"\"\"\n",
    "kltxt = \"Der Text ist aus der Kategorie LABEL_1.\"\n",
    "senttxt = \"Mit einer Wahrscheinlichkeit von 98.63% sagt das Modell voraus, dass dieser Text POSITIVE ist.\"\n",
    "\n",
    "document.add_heading('Projektrealisierung Download-Bericht', 0)\n",
    "\n",
    "\n",
    "document.add_heading('Original Text', level=1)\n",
    "document.add_paragraph(zsmtxt)\n",
    "document.add_heading('Text Zusammenfassung', level=1)\n",
    "document.add_paragraph(zsmtxt)\n",
    "document.add_heading('Text Zusammenfassung', level=1)\n",
    "document.add_paragraph(kltxt)\n",
    "document.add_heading('Text Sentiment', level=1)\n",
    "document.add_paragraph(senttxt)\n",
    "\n",
    "document.add_page_break()\n",
    "\n",
    "document.save('demo.docx')"
   ]
  },
  {
   "cell_type": "code",
   "execution_count": 30,
   "metadata": {},
   "outputs": [],
   "source": [
    "zsmtxt = \"\"\"From our initial set of meetings with the traders regarding consolidated positions, I think we still have the following issues: We don't have a single point of contact from the trading group. We've had three meetings which brought out very different issues from different traders. We really need a single point of contact to help drive the trader requirements and help come to a consensus regarding the requirements. We're getting hit with a lot of different requests, many of which appear to be outside the scope of position consolidation. Go through the list of requests to determine which are in scope for this project and which fall out of scope. Use the above to formulate a project plan. New drill down in the position manager to break out positions by: physical, transport, swaps, options, ... Addition of a curve tab to the position manager to show the real-time values of all curves on which the desk has a position. Each grouped column in the top grid would be tied to a grouped column in the bottom grid. Ability to handle volatility skew and correlations. Ability to revalue all options incrementally throughout the trading day. Eliminate change deals with no economic impact from the TDS deal ticker. Implicit and explicit position break out issues\"\"\"\n",
    "kltxt = \"Der Text ist aus der Kategorie LABEL_1.\"\n",
    "senttxt = \"Mit einer Wahrscheinlichkeit von 98.63% sagt das Modell voraus, dass dieser Text POSITIVE ist.\"\n",
    "\n",
    "with open(\"download.txt\", \"w\") as file:\n",
    "            file.writelines([\"Projektrealisierung Download-Bericht\"+\"\\n\"+\"\\n\",\"Original Text\\n\",zsmtxt+\"\\n\"+\"\\n\",\"Text Zusammenfassung\\n\",zsmtxt+\"\\n\"+\"\\n\",\"Text Klassifizierung\\n\",kltxt+\"\\n\"+\"\\n\",\"Text Sentiment\\n\",senttxt])\n",
    "            file.close()"
   ]
  }
 ],
 "metadata": {
  "kernelspec": {
   "display_name": "prjenv",
   "language": "python",
   "name": "python3"
  },
  "language_info": {
   "codemirror_mode": {
    "name": "ipython",
    "version": 3
   },
   "file_extension": ".py",
   "mimetype": "text/x-python",
   "name": "python",
   "nbconvert_exporter": "python",
   "pygments_lexer": "ipython3",
   "version": "3.11.3"
  },
  "orig_nbformat": 4
 },
 "nbformat": 4,
 "nbformat_minor": 2
}
