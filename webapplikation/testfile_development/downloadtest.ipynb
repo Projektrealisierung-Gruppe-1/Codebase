{
 "cells": [
  {
   "cell_type": "markdown",
   "metadata": {},
   "source": [
    "# PDF"
   ]
  },
  {
   "cell_type": "code",
   "execution_count": 3,
   "metadata": {},
   "outputs": [
    {
     "data": {
      "text/plain": [
       "''"
      ]
     },
     "execution_count": 3,
     "metadata": {},
     "output_type": "execute_result"
    }
   ],
   "source": [
    "from fpdf import FPDF\n",
    " \n",
    " \n",
    "# save FPDF() class into a\n",
    "# variable pdf\n",
    "pdf = FPDF()\n",
    " \n",
    "# Add a page\n",
    "pdf.add_page()\n",
    " \n",
    "# set style and size of font\n",
    "# that you want in the pdf\n",
    "pdf.set_font(\"Arial\", \"B\", size = 18)\n",
    "zsmtxt = \"\"\"From our initial set of meetings with the traders regarding consolidated positions, I think we still have the following issues: We don't have a single point of contact from the trading group. We've had three meetings which brought out very different issues from different traders. We really need a single point of contact to help drive the trader requirements and help come to a consensus regarding the requirements. We're getting hit with a lot of different requests, many of which appear to be outside the scope of position consolidation. Go through the list of requests to determine which are in scope for this project and which fall out of scope. Use the above to formulate a project plan. New drill down in the position manager to break out positions by: physical, transport, swaps, options, ... Addition of a curve tab to the position manager to show the real-time values of all curves on which the desk has a position. Each grouped column in the top grid would be tied to a grouped column in the bottom grid. Ability to handle volatility skew and correlations. Ability to revalue all options incrementally throughout the trading day. Eliminate change deals with no economic impact from the TDS deal ticker. Implicit and explicit position break out issues\"\"\"\n",
    "kltxt = \"Der Text ist aus der Kategorie LABEL_1.\"\n",
    "senttxt = \"Mit einer Wahrscheinlichkeit von 98.63% sagt das Modell voraus, dass dieser Text POSITIVE ist.\"\n",
    "\n",
    "# create a cell\n",
    "pdf.cell(200, 10, txt = \"Projektrealisierung Download-Bericht\",\n",
    "         ln = 1, align = 'C')\n",
    "\n",
    "# add another cell\n",
    "\n",
    "pdf.set_font(\"Arial\", \"U\", size = 14)\n",
    "pdf.cell(200, 10, txt = \"Text Zusammenfassung\",\n",
    "         ln = 1, align = 'L')\n",
    "pdf.set_font(\"Arial\", size = 12)\n",
    "# add another cell\n",
    "pdf.multi_cell(200, 5, txt = zsmtxt, align = 'L')\n",
    "\n",
    "pdf.set_font(\"Arial\",\"U\", size = 14)\n",
    "pdf.cell(200, 15, txt = \"Text Klassifizierung\",\n",
    "         ln = 1, align = 'L')\n",
    "pdf.set_font(\"Arial\", size = 12)\n",
    "pdf.multi_cell(200, 5, txt = kltxt, align = 'L')\n",
    "\n",
    "\n",
    "pdf.set_font(\"Arial\",\"U\", size = 14)\n",
    "pdf.cell(200, 15, txt = \"Text Sentiment\",\n",
    "         ln = 1, align = 'L')\n",
    "pdf.set_font(\"Arial\", size = 12)\n",
    "pdf.multi_cell(200, 5, txt = senttxt, align = 'L')\n",
    "\n",
    "pdf.add_page()\n",
    "pdf.set_font(\"Arial\", \"U\",size = 14)\n",
    "pdf.cell(200, 10, txt = \"Original Text\",\n",
    "         ln = 1, align = 'L')\n",
    "pdf.set_font(\"Arial\", size = 12)\n",
    "pdf.multi_cell(200, 5, txt = zsmtxt, align = 'L')\n",
    "\n",
    "\n",
    "# save the pdf with name .pdf\n",
    "pdf.output(\"test.pdf\")  "
   ]
  },
  {
   "cell_type": "code",
   "execution_count": 5,
   "metadata": {},
   "outputs": [],
   "source": [
    "from docx import Document\n",
    "from docx.shared import Inches\n",
    "\n",
    "document = Document()\n",
    "zsmtxt = \"\"\"From our initial set of meetings with the traders regarding consolidated positions, I think we still have the following issues: We don't have a single point of contact from the trading group. We've had three meetings which brought out very different issues from different traders. We really need a single point of contact to help drive the trader requirements and help come to a consensus regarding the requirements. We're getting hit with a lot of different requests, many of which appear to be outside the scope of position consolidation. Go through the list of requests to determine which are in scope for this project and which fall out of scope. Use the above to formulate a project plan. New drill down in the position manager to break out positions by: physical, transport, swaps, options, ... Addition of a curve tab to the position manager to show the real-time values of all curves on which the desk has a position. Each grouped column in the top grid would be tied to a grouped column in the bottom grid. Ability to handle volatility skew and correlations. Ability to revalue all options incrementally throughout the trading day. Eliminate change deals with no economic impact from the TDS deal ticker. Implicit and explicit position break out issues\"\"\"\n",
    "kltxt = \"Der Text ist aus der Kategorie LABEL_1.\"\n",
    "senttxt = \"Mit einer Wahrscheinlichkeit von 98.63% sagt das Modell voraus, dass dieser Text POSITIVE ist.\"\n",
    "\n",
    "document.add_heading('Projektrealisierung Download-Bericht', 0)\n",
    "\n",
    "\n",
    "document.add_heading('Text Zusammenfassung', level=1)\n",
    "document.add_paragraph(zsmtxt)\n",
    "document.add_heading('Text Zusammenfassung', level=1)\n",
    "document.add_paragraph(kltxt)\n",
    "document.add_heading('Text Sentiment', level=1)\n",
    "document.add_paragraph(senttxt)\n",
    "\n",
    "document.add_page_break()\n",
    "\n",
    "document.add_heading('Original Text', level=1)\n",
    "document.add_paragraph(zsmtxt)\n",
    "\n",
    "document.save('demo.docx')"
   ]
  },
  {
   "cell_type": "code",
   "execution_count": 7,
   "metadata": {},
   "outputs": [],
   "source": [
    "def insert_linebreaks(input_string, words_per_line=15):\n",
    "    words = input_string.split()\n",
    "    lines = [words[i:i+words_per_line]\n",
    "             for i in range(0, len(words), words_per_line)]\n",
    "    return \"\\n\".join(\" \".join(line) for line in lines)\n"
   ]
  },
  {
   "cell_type": "code",
   "execution_count": 9,
   "metadata": {},
   "outputs": [],
   "source": [
    "zsmtxt = \"\"\"From our initial set of meetings with the traders regarding consolidated positions, I think we still have the following issues: We don't have a single point of contact from the trading group. We've had three meetings which brought out very different issues from different traders. We really need a single point of contact to help drive the trader requirements and help come to a consensus regarding the requirements. We're getting hit with a lot of different requests, many of which appear to be outside the scope of position consolidation. Go through the list of requests to determine which are in scope for this project and which fall out of scope. Use the above to formulate a project plan. New drill down in the position manager to break out positions by: physical, transport, swaps, options, ... Addition of a curve tab to the position manager to show the real-time values of all curves on which the desk has a position. Each grouped column in the top grid would be tied to a grouped column in the bottom grid. Ability to handle volatility skew and correlations. Ability to revalue all options incrementally throughout the trading day. Eliminate change deals with no economic impact from the TDS deal ticker. Implicit and explicit position break out issues\"\"\"\n",
    "kltxt = \"Der Text ist aus der Kategorie LABEL_1.\"\n",
    "senttxt = \"Mit einer Wahrscheinlichkeit von 98.63% sagt das Modell voraus, dass dieser Text POSITIVE ist.\"\n",
    "\n",
    "\n",
    "with open(\"download.txt\", \"w\") as file:\n",
    "            file.writelines([\"Projektrealisierung Download-Bericht\"+\"\\n\"+\"\\n\",\n",
    "                             \"Text Zusammenfassung\\n\",\n",
    "                             insert_linebreaks(zsmtxt)+\"\\n\"+\"\\n\",\n",
    "                             \"Text Klassifizierung\\n\",\n",
    "                             kltxt+\"\\n\"+\"\\n\",\"Text Sentiment\\n\",\n",
    "                             senttxt+\"\\n\"+\"\\n\",\n",
    "                             \"Original Text\\n\",\n",
    "                             insert_linebreaks(zsmtxt)+\"\\n\"+\"\\n\",\n",
    "                             ])\n",
    "            file.close()"
   ]
  },
  {
   "cell_type": "code",
   "execution_count": null,
   "metadata": {},
   "outputs": [],
   "source": []
  },
  {
   "cell_type": "code",
   "execution_count": 6,
   "metadata": {},
   "outputs": [],
   "source": []
  },
  {
   "cell_type": "code",
   "execution_count": 15,
   "metadata": {},
   "outputs": [
    {
     "name": "stdout",
     "output_type": "stream",
     "text": [
      "From our initial set of meetings with the traders regarding consolidated positions, I think we\n",
      "still have the following issues: We don't have a single point of contact from the\n",
      "trading group. We've had three meetings which brought out very different issues from different traders.\n",
      "We really need a single point of contact to help drive the trader requirements and\n",
      "help come to a consensus regarding the requirements. We're getting hit with a lot of\n",
      "different requests, many of which appear to be outside the scope of position consolidation. Go\n",
      "through the list of requests to determine which are in scope for this project and\n",
      "which fall out of scope. Use the above to formulate a project plan. New drill\n",
      "down in the position manager to break out positions by: physical, transport, swaps, options, ...\n",
      "Addition of a curve tab to the position manager to show the real-time values of\n",
      "all curves on which the desk has a position. Each grouped column in the top\n",
      "grid would be tied to a grouped column in the bottom grid. Ability to handle\n",
      "volatility skew and correlations. Ability to revalue all options incrementally throughout the trading day. Eliminate\n",
      "change deals with no economic impact from the TDS deal ticker. Implicit and explicit position\n",
      "break out issues\n"
     ]
    }
   ],
   "source": [
    "print(insert_linebreaks(zsmtxt))"
   ]
  },
  {
   "cell_type": "code",
   "execution_count": null,
   "metadata": {},
   "outputs": [],
   "source": [
    "def word_counter(text):\n",
    "    return len(text.split())"
   ]
  }
 ],
 "metadata": {
  "kernelspec": {
   "display_name": "pr_env",
   "language": "python",
   "name": "python3"
  },
  "language_info": {
   "codemirror_mode": {
    "name": "ipython",
    "version": 3
   },
   "file_extension": ".py",
   "mimetype": "text/x-python",
   "name": "python",
   "nbconvert_exporter": "python",
   "pygments_lexer": "ipython3",
   "version": "3.11.0"
  },
  "orig_nbformat": 4,
  "vscode": {
   "interpreter": {
    "hash": "4af93c0bebd2e98a668ccdfd370ac61c2cae3e43fd29fb7daa05b58b959c04dc"
   }
  }
 },
 "nbformat": 4,
 "nbformat_minor": 2
}
