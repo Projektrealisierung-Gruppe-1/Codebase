{
 "cells": [
  {
   "cell_type": "code",
   "execution_count": 4,
   "metadata": {},
   "outputs": [
    {
     "ename": "NameError",
     "evalue": "name 'load_dotenv' is not defined",
     "output_type": "error",
     "traceback": [
      "\u001b[1;31m---------------------------------------------------------------------------\u001b[0m",
      "\u001b[1;31mNameError\u001b[0m                                 Traceback (most recent call last)",
      "Cell \u001b[1;32mIn[4], line 10\u001b[0m\n\u001b[0;32m      7\u001b[0m \u001b[39mimport\u001b[39;00m \u001b[39mos\u001b[39;00m\n\u001b[0;32m      9\u001b[0m \u001b[39mimport\u001b[39;00m \u001b[39mdotenv\u001b[39;00m\n\u001b[1;32m---> 10\u001b[0m load_dotenv()\n",
      "\u001b[1;31mNameError\u001b[0m: name 'load_dotenv' is not defined"
     ]
    }
   ],
   "source": [
    "# Test API Access to the deepl translator\n",
    "\n",
    "## Imports \n",
    "import deepl\n",
    "import requests\n",
    "import urllib3\n",
    "import os\n",
    "\n",
    "import dotenv\n"
   ]
  },
  {
   "cell_type": "code",
   "execution_count": 2,
   "metadata": {},
   "outputs": [
    {
     "ename": "NameError",
     "evalue": "name 'load_dotenv' is not defined",
     "output_type": "error",
     "traceback": [
      "\u001b[1;31m---------------------------------------------------------------------------\u001b[0m",
      "\u001b[1;31mNameError\u001b[0m                                 Traceback (most recent call last)",
      "Cell \u001b[1;32mIn[2], line 1\u001b[0m\n\u001b[1;32m----> 1\u001b[0m load_dotenv()\n",
      "\u001b[1;31mNameError\u001b[0m: name 'load_dotenv' is not defined"
     ]
    }
   ],
   "source": []
  },
  {
   "cell_type": "code",
   "execution_count": 2,
   "metadata": {},
   "outputs": [
    {
     "ename": "ValueError",
     "evalue": "auth_key must not be empty",
     "output_type": "error",
     "traceback": [
      "\u001b[1;31m---------------------------------------------------------------------------\u001b[0m",
      "\u001b[1;31mValueError\u001b[0m                                Traceback (most recent call last)",
      "Cell \u001b[1;32mIn[2], line 2\u001b[0m\n\u001b[0;32m      1\u001b[0m DEEPLKEY \u001b[39m=\u001b[39m os\u001b[39m.\u001b[39mgetenv(\u001b[39m\"\u001b[39m\u001b[39mDEEPLKEY\u001b[39m\u001b[39m\"\u001b[39m)\n\u001b[1;32m----> 2\u001b[0m translator \u001b[39m=\u001b[39m deepl\u001b[39m.\u001b[39;49mTranslator(DEEPLKEY)\n\u001b[0;32m      3\u001b[0m target_language \u001b[39m=\u001b[39m \u001b[39m\"\u001b[39m\u001b[39mEN-US\u001b[39m\u001b[39m\"\u001b[39m\n\u001b[0;32m      5\u001b[0m txt_english \u001b[39m=\u001b[39m translator\u001b[39m.\u001b[39mtranslate_text(txt, target_lang\u001b[39m=\u001b[39mtarget_language)\n",
      "File \u001b[1;32mf:\\Github_local\\BA_data\\Projektrealisierung_Gruppe_1\\.venv\\Lib\\site-packages\\deepl\\translator.py:490\u001b[0m, in \u001b[0;36mTranslator.__init__\u001b[1;34m(self, auth_key, server_url, proxy, send_platform_info, verify_ssl, skip_language_check)\u001b[0m\n\u001b[0;32m    479\u001b[0m \u001b[39mdef\u001b[39;00m \u001b[39m__init__\u001b[39m(\n\u001b[0;32m    480\u001b[0m     \u001b[39mself\u001b[39m,\n\u001b[0;32m    481\u001b[0m     auth_key: \u001b[39mstr\u001b[39m,\n\u001b[1;32m   (...)\u001b[0m\n\u001b[0;32m    487\u001b[0m     skip_language_check: \u001b[39mbool\u001b[39m \u001b[39m=\u001b[39m \u001b[39mFalse\u001b[39;00m,\n\u001b[0;32m    488\u001b[0m ):\n\u001b[0;32m    489\u001b[0m     \u001b[39mif\u001b[39;00m \u001b[39mnot\u001b[39;00m auth_key:\n\u001b[1;32m--> 490\u001b[0m         \u001b[39mraise\u001b[39;00m \u001b[39mValueError\u001b[39;00m(\u001b[39m\"\u001b[39m\u001b[39mauth_key must not be empty\u001b[39m\u001b[39m\"\u001b[39m)\n\u001b[0;32m    492\u001b[0m     \u001b[39mif\u001b[39;00m server_url \u001b[39mis\u001b[39;00m \u001b[39mNone\u001b[39;00m:\n\u001b[0;32m    493\u001b[0m         server_url \u001b[39m=\u001b[39m (\n\u001b[0;32m    494\u001b[0m             \u001b[39mself\u001b[39m\u001b[39m.\u001b[39m_DEEPL_SERVER_URL_FREE\n\u001b[0;32m    495\u001b[0m             \u001b[39mif\u001b[39;00m util\u001b[39m.\u001b[39mauth_key_is_free_account(auth_key)\n\u001b[0;32m    496\u001b[0m             \u001b[39melse\u001b[39;00m \u001b[39mself\u001b[39m\u001b[39m.\u001b[39m_DEEPL_SERVER_URL\n\u001b[0;32m    497\u001b[0m         )\n",
      "\u001b[1;31mValueError\u001b[0m: auth_key must not be empty"
     ]
    }
   ],
   "source": [
    "\n",
    "DEEPLKEY = os.getenv(\"DEEPLKEY\")\n",
    "translator = deepl.Translator(DEEPLKEY)\n",
    "target_language = \"EN-US\"\n",
    "    \n",
    "txt_english = translator.translate_text(txt, target_lang=target_language)"
   ]
  },
  {
   "cell_type": "code",
   "execution_count": 3,
   "metadata": {},
   "outputs": [
    {
     "data": {
      "text/plain": [
       "'this is a test my friend'"
      ]
     },
     "execution_count": 3,
     "metadata": {},
     "output_type": "execute_result"
    }
   ],
   "source": [
    "result = translator.translate_text(text_to_translate, target_lang=target_language)\n",
    "result.text"
   ]
  },
  {
   "cell_type": "code",
   "execution_count": 1,
   "metadata": {},
   "outputs": [],
   "source": [
    "import streamlit_authenticator as stauth"
   ]
  },
  {
   "cell_type": "code",
   "execution_count": 4,
   "metadata": {},
   "outputs": [],
   "source": [
    "hashed_passwords = stauth.Hasher(['admin', 'root']).generate()"
   ]
  },
  {
   "cell_type": "code",
   "execution_count": 5,
   "metadata": {},
   "outputs": [
    {
     "data": {
      "text/plain": [
       "['$2b$12$2UPNnrukkuUCw/sadtVNwu5FpqsZHxPniRlgft6iribV.PCWpIce2',\n",
       " '$2b$12$w0Rc0YNuAeklVGteRvPCDe.pQa8tioiaR1I6YghoG7SqeiidZSa1G']"
      ]
     },
     "execution_count": 5,
     "metadata": {},
     "output_type": "execute_result"
    }
   ],
   "source": [
    "hashed_passwords"
   ]
  }
 ],
 "metadata": {
  "kernelspec": {
   "display_name": "Python 3",
   "language": "python",
   "name": "python3"
  },
  "language_info": {
   "codemirror_mode": {
    "name": "ipython",
    "version": 3
   },
   "file_extension": ".py",
   "mimetype": "text/x-python",
   "name": "python",
   "nbconvert_exporter": "python",
   "pygments_lexer": "ipython3",
   "version": "3.11.0"
  },
  "orig_nbformat": 4
 },
 "nbformat": 4,
 "nbformat_minor": 2
}
