{
 "cells": [
  {
   "cell_type": "code",
   "execution_count": 5,
   "metadata": {},
   "outputs": [
    {
     "data": {
      "text/html": [
       "<div>\n",
       "<style scoped>\n",
       "    .dataframe tbody tr th:only-of-type {\n",
       "        vertical-align: middle;\n",
       "    }\n",
       "\n",
       "    .dataframe tbody tr th {\n",
       "        vertical-align: top;\n",
       "    }\n",
       "\n",
       "    .dataframe thead th {\n",
       "        text-align: right;\n",
       "    }\n",
       "</style>\n",
       "<table border=\"1\" class=\"dataframe\">\n",
       "  <thead>\n",
       "    <tr style=\"text-align: right;\">\n",
       "      <th></th>\n",
       "      <th>text</th>\n",
       "      <th>summary</th>\n",
       "    </tr>\n",
       "  </thead>\n",
       "  <tbody>\n",
       "    <tr>\n",
       "      <th>0</th>\n",
       "      <td>By MATT SCHWARTZ in Houston and WENDELL JAMIES...</td>\n",
       "      <td>Bleeding from a massive chest wound, Tejano st...</td>\n",
       "    </tr>\n",
       "    <tr>\n",
       "      <th>1</th>\n",
       "      <td>By HOLLY RAMER, Associated Press\\n\\nCONCORD, N...</td>\n",
       "      <td>By HOLLY RAMER, Associated Press CONCORD, N.H....</td>\n",
       "    </tr>\n",
       "    <tr>\n",
       "      <th>2</th>\n",
       "      <td>Men in battle-fatigues have raided the Moscow ...</td>\n",
       "      <td>Men in battle-fatigues have&amp;nbsp;raided the Mo...</td>\n",
       "    </tr>\n",
       "    <tr>\n",
       "      <th>3</th>\n",
       "      <td>Like all gadgets, cellphones can break. In fac...</td>\n",
       "      <td>Simple home remedies for repairing your mobile...</td>\n",
       "    </tr>\n",
       "    <tr>\n",
       "      <th>4</th>\n",
       "      <td>I visited Saudi Arabia in September 2008, arri...</td>\n",
       "      <td>Hurricane Ike, Ramadan and the billionaire pri...</td>\n",
       "    </tr>\n",
       "    <tr>\n",
       "      <th>...</th>\n",
       "      <td>...</td>\n",
       "      <td>...</td>\n",
       "    </tr>\n",
       "    <tr>\n",
       "      <th>108857</th>\n",
       "      <td>Ahumdinger TV season wrapped Wednesday night, ...</td>\n",
       "      <td>Ahumdinger TV season wrapped Wednesday night, ...</td>\n",
       "    </tr>\n",
       "    <tr>\n",
       "      <th>108858</th>\n",
       "      <td>A Senate panel reached bipartisan agreement on...</td>\n",
       "      <td>A Senate panel reached bipartisan agreement on...</td>\n",
       "    </tr>\n",
       "    <tr>\n",
       "      <th>108859</th>\n",
       "      <td>In a dramatic break with the ideological warfa...</td>\n",
       "      <td>Fragile bipartisan compromise, at best, has pr...</td>\n",
       "    </tr>\n",
       "    <tr>\n",
       "      <th>108860</th>\n",
       "      <td>In 1967, LaDonna Davis's boyfriend went on a t...</td>\n",
       "      <td>Get style news headlines from The Washington P...</td>\n",
       "    </tr>\n",
       "    <tr>\n",
       "      <th>108861</th>\n",
       "      <td>Digital money pioneer PayPal is on the prowl.\\...</td>\n",
       "      <td>Digital money pioneer PayPal is on the prowl. ...</td>\n",
       "    </tr>\n",
       "  </tbody>\n",
       "</table>\n",
       "<p>108862 rows × 2 columns</p>\n",
       "</div>"
      ],
      "text/plain": [
       "                                                     text  \\\n",
       "0       By MATT SCHWARTZ in Houston and WENDELL JAMIES...   \n",
       "1       By HOLLY RAMER, Associated Press\\n\\nCONCORD, N...   \n",
       "2       Men in battle-fatigues have raided the Moscow ...   \n",
       "3       Like all gadgets, cellphones can break. In fac...   \n",
       "4       I visited Saudi Arabia in September 2008, arri...   \n",
       "...                                                   ...   \n",
       "108857  Ahumdinger TV season wrapped Wednesday night, ...   \n",
       "108858  A Senate panel reached bipartisan agreement on...   \n",
       "108859  In a dramatic break with the ideological warfa...   \n",
       "108860  In 1967, LaDonna Davis's boyfriend went on a t...   \n",
       "108861  Digital money pioneer PayPal is on the prowl.\\...   \n",
       "\n",
       "                                                  summary  \n",
       "0       Bleeding from a massive chest wound, Tejano st...  \n",
       "1       By HOLLY RAMER, Associated Press CONCORD, N.H....  \n",
       "2       Men in battle-fatigues have&nbsp;raided the Mo...  \n",
       "3       Simple home remedies for repairing your mobile...  \n",
       "4       Hurricane Ike, Ramadan and the billionaire pri...  \n",
       "...                                                   ...  \n",
       "108857  Ahumdinger TV season wrapped Wednesday night, ...  \n",
       "108858  A Senate panel reached bipartisan agreement on...  \n",
       "108859  Fragile bipartisan compromise, at best, has pr...  \n",
       "108860  Get style news headlines from The Washington P...  \n",
       "108861  Digital money pioneer PayPal is on the prowl. ...  \n",
       "\n",
       "[108862 rows x 2 columns]"
      ]
     },
     "execution_count": 5,
     "metadata": {},
     "output_type": "execute_result"
    }
   ],
   "source": [
    "import pandas as pd\n",
    "\n",
    "df = pd.read_csv(\"drive_download/summarization_data_newsroom.csv\")\n",
    "df = df.drop(columns=['density_bin'])\n",
    "df"
   ]
  },
  {
   "cell_type": "code",
   "execution_count": 6,
   "metadata": {},
   "outputs": [
    {
     "data": {
      "application/vnd.jupyter.widget-view+json": {
       "model_id": "bd86a91ffe784590b1eb3edf2e302616",
       "version_major": 2,
       "version_minor": 0
      },
      "text/plain": [
       "Downloading:   0%|          | 0.00/483 [00:00<?, ?B/s]"
      ]
     },
     "metadata": {},
     "output_type": "display_data"
    },
    {
     "data": {
      "application/vnd.jupyter.widget-view+json": {
       "model_id": "4eff1bd6c14d4f26ae4b1fa60585906c",
       "version_major": 2,
       "version_minor": 0
      },
      "text/plain": [
       "Downloading:   0%|          | 0.00/268M [00:00<?, ?B/s]"
      ]
     },
     "metadata": {},
     "output_type": "display_data"
    },
    {
     "name": "stderr",
     "output_type": "stream",
     "text": [
      "Some weights of the model checkpoint at distilbert-base-uncased were not used when initializing DistilBertModel: ['vocab_projector.weight', 'vocab_transform.bias', 'vocab_transform.weight', 'vocab_layer_norm.bias', 'vocab_projector.bias', 'vocab_layer_norm.weight']\n",
      "- This IS expected if you are initializing DistilBertModel from the checkpoint of a model trained on another task or with another architecture (e.g. initializing a BertForSequenceClassification model from a BertForPreTraining model).\n",
      "- This IS NOT expected if you are initializing DistilBertModel from the checkpoint of a model that you expect to be exactly identical (initializing a BertForSequenceClassification model from a BertForSequenceClassification model).\n"
     ]
    },
    {
     "data": {
      "application/vnd.jupyter.widget-view+json": {
       "model_id": "8ed2aeb81b63426e8b3d1a95c968af91",
       "version_major": 2,
       "version_minor": 0
      },
      "text/plain": [
       "Downloading:   0%|          | 0.00/232k [00:00<?, ?B/s]"
      ]
     },
     "metadata": {},
     "output_type": "display_data"
    },
    {
     "data": {
      "application/vnd.jupyter.widget-view+json": {
       "model_id": "9779011515f94f66ac2ae831d2ab9903",
       "version_major": 2,
       "version_minor": 0
      },
      "text/plain": [
       "Downloading:   0%|          | 0.00/28.0 [00:00<?, ?B/s]"
      ]
     },
     "metadata": {},
     "output_type": "display_data"
    }
   ],
   "source": [
    "from summarizer import Summarizer\n",
    "model = Summarizer('distilbert-base-uncased')"
   ]
  },
  {
   "cell_type": "code",
   "execution_count": 7,
   "metadata": {},
   "outputs": [],
   "source": [
    "def zsm_df(txt):\n",
    "    zsm_txt = model(txt, ratio=0.6)\n",
    "    return zsm_txt"
   ]
  },
  {
   "cell_type": "code",
   "execution_count": 20,
   "metadata": {},
   "outputs": [],
   "source": [
    "df = df[:5000]"
   ]
  },
  {
   "cell_type": "code",
   "execution_count": 21,
   "metadata": {},
   "outputs": [
    {
     "data": {
      "text/html": [
       "<div>\n",
       "<style scoped>\n",
       "    .dataframe tbody tr th:only-of-type {\n",
       "        vertical-align: middle;\n",
       "    }\n",
       "\n",
       "    .dataframe tbody tr th {\n",
       "        vertical-align: top;\n",
       "    }\n",
       "\n",
       "    .dataframe thead th {\n",
       "        text-align: right;\n",
       "    }\n",
       "</style>\n",
       "<table border=\"1\" class=\"dataframe\">\n",
       "  <thead>\n",
       "    <tr style=\"text-align: right;\">\n",
       "      <th></th>\n",
       "      <th>text</th>\n",
       "      <th>summary</th>\n",
       "    </tr>\n",
       "  </thead>\n",
       "  <tbody>\n",
       "    <tr>\n",
       "      <th>0</th>\n",
       "      <td>By MATT SCHWARTZ in Houston and WENDELL JAMIES...</td>\n",
       "      <td>Bleeding from a massive chest wound, Tejano st...</td>\n",
       "    </tr>\n",
       "    <tr>\n",
       "      <th>1</th>\n",
       "      <td>By HOLLY RAMER, Associated Press\\n\\nCONCORD, N...</td>\n",
       "      <td>By HOLLY RAMER, Associated Press CONCORD, N.H....</td>\n",
       "    </tr>\n",
       "    <tr>\n",
       "      <th>2</th>\n",
       "      <td>Men in battle-fatigues have raided the Moscow ...</td>\n",
       "      <td>Men in battle-fatigues have&amp;nbsp;raided the Mo...</td>\n",
       "    </tr>\n",
       "    <tr>\n",
       "      <th>3</th>\n",
       "      <td>Like all gadgets, cellphones can break. In fac...</td>\n",
       "      <td>Simple home remedies for repairing your mobile...</td>\n",
       "    </tr>\n",
       "    <tr>\n",
       "      <th>4</th>\n",
       "      <td>I visited Saudi Arabia in September 2008, arri...</td>\n",
       "      <td>Hurricane Ike, Ramadan and the billionaire pri...</td>\n",
       "    </tr>\n",
       "    <tr>\n",
       "      <th>...</th>\n",
       "      <td>...</td>\n",
       "      <td>...</td>\n",
       "    </tr>\n",
       "    <tr>\n",
       "      <th>4995</th>\n",
       "      <td>A masked gunman has been shot dead by police a...</td>\n",
       "      <td>A man has reportedly opened fire inside a cine...</td>\n",
       "    </tr>\n",
       "    <tr>\n",
       "      <th>4996</th>\n",
       "      <td>We are continually improving the quality of ou...</td>\n",
       "      <td>Davidson, Genevieve Sullivan (Mrs)</td>\n",
       "    </tr>\n",
       "    <tr>\n",
       "      <th>4997</th>\n",
       "      <td>can finally breathe easy -- he is officially d...</td>\n",
       "      <td>Antoine Walker can finally breathe easy -- he ...</td>\n",
       "    </tr>\n",
       "    <tr>\n",
       "      <th>4998</th>\n",
       "      <td>Photo: Kimberly Veklerov / /\\n\\nReps. Jared Hu...</td>\n",
       "      <td>California commercial crab fishermen, many str...</td>\n",
       "    </tr>\n",
       "    <tr>\n",
       "      <th>4999</th>\n",
       "      <td>The so-called Brexit referendum—the coming que...</td>\n",
       "      <td>To be or not to be...in Europe</td>\n",
       "    </tr>\n",
       "  </tbody>\n",
       "</table>\n",
       "<p>5000 rows × 2 columns</p>\n",
       "</div>"
      ],
      "text/plain": [
       "                                                   text  \\\n",
       "0     By MATT SCHWARTZ in Houston and WENDELL JAMIES...   \n",
       "1     By HOLLY RAMER, Associated Press\\n\\nCONCORD, N...   \n",
       "2     Men in battle-fatigues have raided the Moscow ...   \n",
       "3     Like all gadgets, cellphones can break. In fac...   \n",
       "4     I visited Saudi Arabia in September 2008, arri...   \n",
       "...                                                 ...   \n",
       "4995  A masked gunman has been shot dead by police a...   \n",
       "4996  We are continually improving the quality of ou...   \n",
       "4997  can finally breathe easy -- he is officially d...   \n",
       "4998  Photo: Kimberly Veklerov / /\\n\\nReps. Jared Hu...   \n",
       "4999  The so-called Brexit referendum—the coming que...   \n",
       "\n",
       "                                                summary  \n",
       "0     Bleeding from a massive chest wound, Tejano st...  \n",
       "1     By HOLLY RAMER, Associated Press CONCORD, N.H....  \n",
       "2     Men in battle-fatigues have&nbsp;raided the Mo...  \n",
       "3     Simple home remedies for repairing your mobile...  \n",
       "4     Hurricane Ike, Ramadan and the billionaire pri...  \n",
       "...                                                 ...  \n",
       "4995  A man has reportedly opened fire inside a cine...  \n",
       "4996                 Davidson, Genevieve Sullivan (Mrs)  \n",
       "4997  Antoine Walker can finally breathe easy -- he ...  \n",
       "4998  California commercial crab fishermen, many str...  \n",
       "4999                     To be or not to be...in Europe  \n",
       "\n",
       "[5000 rows x 2 columns]"
      ]
     },
     "execution_count": 21,
     "metadata": {},
     "output_type": "execute_result"
    }
   ],
   "source": [
    "df"
   ]
  },
  {
   "cell_type": "code",
   "execution_count": 22,
   "metadata": {},
   "outputs": [
    {
     "name": "stderr",
     "output_type": "stream",
     "text": [
      "/home/rechcons/PP3-NLP/.PPP-NLP-env/lib/python3.8/site-packages/summarizer/cluster_features.py:149: ConvergenceWarning: Number of distinct clusters (132) found smaller than n_clusters (182). Possibly due to duplicate points in X.\n",
      "  model = self._get_model(k).fit(self.features)\n",
      "/home/rechcons/PP3-NLP/.PPP-NLP-env/lib/python3.8/site-packages/summarizer/cluster_features.py:149: ConvergenceWarning: Number of distinct clusters (42) found smaller than n_clusters (49). Possibly due to duplicate points in X.\n",
      "  model = self._get_model(k).fit(self.features)\n",
      "/home/rechcons/PP3-NLP/.PPP-NLP-env/lib/python3.8/site-packages/summarizer/cluster_features.py:149: ConvergenceWarning: Number of distinct clusters (57) found smaller than n_clusters (70). Possibly due to duplicate points in X.\n",
      "  model = self._get_model(k).fit(self.features)\n",
      "/home/rechcons/PP3-NLP/.PPP-NLP-env/lib/python3.8/site-packages/summarizer/cluster_features.py:149: ConvergenceWarning: Number of distinct clusters (65) found smaller than n_clusters (67). Possibly due to duplicate points in X.\n",
      "  model = self._get_model(k).fit(self.features)\n",
      "/home/rechcons/PP3-NLP/.PPP-NLP-env/lib/python3.8/site-packages/summarizer/cluster_features.py:149: ConvergenceWarning: Number of distinct clusters (34) found smaller than n_clusters (42). Possibly due to duplicate points in X.\n",
      "  model = self._get_model(k).fit(self.features)\n",
      "/tmp/ipykernel_27371/1816157222.py:1: UserWarning: Pandas doesn't allow columns to be created via a new attribute name - see https://pandas.pydata.org/pandas-docs/stable/indexing.html#attribute-access\n",
      "  df.zsm = df.apply(lambda row : zsm_df(row[\"text\"]), axis = 1)\n"
     ]
    }
   ],
   "source": [
    "df[\"zsm\"] = df.apply(lambda row : zsm_df(row[\"text\"]), axis = 1)"
   ]
  },
  {
   "cell_type": "code",
   "execution_count": 65,
   "metadata": {},
   "outputs": [],
   "source": [
    "df = df.drop(index=df[df[\"zsm\"]==\"\"].index).reset_index(drop=True)"
   ]
  },
  {
   "cell_type": "code",
   "execution_count": 70,
   "metadata": {},
   "outputs": [],
   "source": [
    "from rouge import Rouge \n",
    "\n",
    "def rogue_scorer(ypred,ytrue):\n",
    "    rouge = Rouge()\n",
    "    scores = rouge.get_scores(ypred, ytrue)\n",
    "    return scores[0][\"rouge-1\"]"
   ]
  },
  {
   "cell_type": "code",
   "execution_count": 71,
   "metadata": {},
   "outputs": [],
   "source": [
    "x = df.apply(lambda row : rogue_scorer(row[\"zsm\"],row[\"summary\"]), axis = 1)"
   ]
  },
  {
   "cell_type": "code",
   "execution_count": 72,
   "metadata": {},
   "outputs": [
    {
     "data": {
      "text/plain": [
       "0       {'r': 0.9354838709677419, 'p': 0.3276836158192...\n",
       "1       {'r': 1.0, 'p': 0.31451612903225806, 'f': 0.47...\n",
       "2       {'r': 0.8181818181818182, 'p': 0.0608108108108...\n",
       "3       {'r': 0.15384615384615385, 'p': 0.052631578947...\n",
       "4       {'r': 0.5714285714285714, 'p': 0.0195121951219...\n",
       "                              ...                        \n",
       "4989    {'r': 0.5333333333333333, 'p': 0.0672268907563...\n",
       "4990                       {'r': 0.0, 'p': 0.0, 'f': 0.0}\n",
       "4991    {'r': 0.5769230769230769, 'p': 0.3409090909090...\n",
       "4992    {'r': 0.9004149377593361, 'p': 0.434, 'f': 0.5...\n",
       "4993    {'r': 0.8571428571428571, 'p': 0.0192926045016...\n",
       "Length: 4994, dtype: object"
      ]
     },
     "execution_count": 72,
     "metadata": {},
     "output_type": "execute_result"
    }
   ],
   "source": [
    "x"
   ]
  },
  {
   "cell_type": "code",
   "execution_count": 74,
   "metadata": {},
   "outputs": [],
   "source": [
    "df = df.join(pd.json_normalize(x))"
   ]
  },
  {
   "cell_type": "code",
   "execution_count": 77,
   "metadata": {},
   "outputs": [
    {
     "data": {
      "text/html": [
       "<div>\n",
       "<style scoped>\n",
       "    .dataframe tbody tr th:only-of-type {\n",
       "        vertical-align: middle;\n",
       "    }\n",
       "\n",
       "    .dataframe tbody tr th {\n",
       "        vertical-align: top;\n",
       "    }\n",
       "\n",
       "    .dataframe thead th {\n",
       "        text-align: right;\n",
       "    }\n",
       "</style>\n",
       "<table border=\"1\" class=\"dataframe\">\n",
       "  <thead>\n",
       "    <tr style=\"text-align: right;\">\n",
       "      <th></th>\n",
       "      <th>text</th>\n",
       "      <th>summary</th>\n",
       "      <th>zsm</th>\n",
       "      <th>r</th>\n",
       "      <th>p</th>\n",
       "      <th>f</th>\n",
       "    </tr>\n",
       "  </thead>\n",
       "  <tbody>\n",
       "    <tr>\n",
       "      <th>0</th>\n",
       "      <td>By MATT SCHWARTZ in Houston and WENDELL JAMIES...</td>\n",
       "      <td>Bleeding from a massive chest wound, Tejano st...</td>\n",
       "      <td>By MATT SCHWARTZ in Houston and WENDELL JAMIES...</td>\n",
       "      <td>0.935484</td>\n",
       "      <td>0.327684</td>\n",
       "      <td>0.485356</td>\n",
       "    </tr>\n",
       "    <tr>\n",
       "      <th>1</th>\n",
       "      <td>By HOLLY RAMER, Associated Press\\n\\nCONCORD, N...</td>\n",
       "      <td>By HOLLY RAMER, Associated Press CONCORD, N.H....</td>\n",
       "      <td>By HOLLY RAMER, Associated Press\\n\\nCONCORD, N...</td>\n",
       "      <td>1.000000</td>\n",
       "      <td>0.314516</td>\n",
       "      <td>0.478528</td>\n",
       "    </tr>\n",
       "    <tr>\n",
       "      <th>2</th>\n",
       "      <td>Men in battle-fatigues have raided the Moscow ...</td>\n",
       "      <td>Men in battle-fatigues have&amp;nbsp;raided the Mo...</td>\n",
       "      <td>Men in battle-fatigues have raided the Moscow ...</td>\n",
       "      <td>0.818182</td>\n",
       "      <td>0.060811</td>\n",
       "      <td>0.113208</td>\n",
       "    </tr>\n",
       "    <tr>\n",
       "      <th>3</th>\n",
       "      <td>Like all gadgets, cellphones can break. In fac...</td>\n",
       "      <td>Simple home remedies for repairing your mobile...</td>\n",
       "      <td>In fact, our habit of carrying our phones cons...</td>\n",
       "      <td>0.153846</td>\n",
       "      <td>0.052632</td>\n",
       "      <td>0.078431</td>\n",
       "    </tr>\n",
       "    <tr>\n",
       "      <th>4</th>\n",
       "      <td>I visited Saudi Arabia in September 2008, arri...</td>\n",
       "      <td>Hurricane Ike, Ramadan and the billionaire pri...</td>\n",
       "      <td>I visited Saudi Arabia in September 2008, arri...</td>\n",
       "      <td>0.571429</td>\n",
       "      <td>0.019512</td>\n",
       "      <td>0.037736</td>\n",
       "    </tr>\n",
       "    <tr>\n",
       "      <th>...</th>\n",
       "      <td>...</td>\n",
       "      <td>...</td>\n",
       "      <td>...</td>\n",
       "      <td>...</td>\n",
       "      <td>...</td>\n",
       "      <td>...</td>\n",
       "    </tr>\n",
       "    <tr>\n",
       "      <th>4989</th>\n",
       "      <td>A masked gunman has been shot dead by police a...</td>\n",
       "      <td>A man has reportedly opened fire inside a cine...</td>\n",
       "      <td>A masked gunman has been shot dead by police a...</td>\n",
       "      <td>0.533333</td>\n",
       "      <td>0.067227</td>\n",
       "      <td>0.119403</td>\n",
       "    </tr>\n",
       "    <tr>\n",
       "      <th>4990</th>\n",
       "      <td>We are continually improving the quality of ou...</td>\n",
       "      <td>Davidson, Genevieve Sullivan (Mrs)</td>\n",
       "      <td>We are continually improving the quality of ou...</td>\n",
       "      <td>0.000000</td>\n",
       "      <td>0.000000</td>\n",
       "      <td>0.000000</td>\n",
       "    </tr>\n",
       "    <tr>\n",
       "      <th>4991</th>\n",
       "      <td>can finally breathe easy -- he is officially d...</td>\n",
       "      <td>Antoine Walker can finally breathe easy -- he ...</td>\n",
       "      <td>can finally breathe easy -- he is officially d...</td>\n",
       "      <td>0.576923</td>\n",
       "      <td>0.340909</td>\n",
       "      <td>0.428571</td>\n",
       "    </tr>\n",
       "    <tr>\n",
       "      <th>4992</th>\n",
       "      <td>Photo: Kimberly Veklerov / /\\n\\nReps. Jared Hu...</td>\n",
       "      <td>California commercial crab fishermen, many str...</td>\n",
       "      <td>Jared Huffman and Jackie Speier speak at a new...</td>\n",
       "      <td>0.900415</td>\n",
       "      <td>0.434000</td>\n",
       "      <td>0.585695</td>\n",
       "    </tr>\n",
       "    <tr>\n",
       "      <th>4993</th>\n",
       "      <td>The so-called Brexit referendum—the coming que...</td>\n",
       "      <td>To be or not to be...in Europe</td>\n",
       "      <td>The so-called Brexit referendum—the coming que...</td>\n",
       "      <td>0.857143</td>\n",
       "      <td>0.019293</td>\n",
       "      <td>0.037736</td>\n",
       "    </tr>\n",
       "  </tbody>\n",
       "</table>\n",
       "<p>4994 rows × 6 columns</p>\n",
       "</div>"
      ],
      "text/plain": [
       "                                                   text  \\\n",
       "0     By MATT SCHWARTZ in Houston and WENDELL JAMIES...   \n",
       "1     By HOLLY RAMER, Associated Press\\n\\nCONCORD, N...   \n",
       "2     Men in battle-fatigues have raided the Moscow ...   \n",
       "3     Like all gadgets, cellphones can break. In fac...   \n",
       "4     I visited Saudi Arabia in September 2008, arri...   \n",
       "...                                                 ...   \n",
       "4989  A masked gunman has been shot dead by police a...   \n",
       "4990  We are continually improving the quality of ou...   \n",
       "4991  can finally breathe easy -- he is officially d...   \n",
       "4992  Photo: Kimberly Veklerov / /\\n\\nReps. Jared Hu...   \n",
       "4993  The so-called Brexit referendum—the coming que...   \n",
       "\n",
       "                                                summary  \\\n",
       "0     Bleeding from a massive chest wound, Tejano st...   \n",
       "1     By HOLLY RAMER, Associated Press CONCORD, N.H....   \n",
       "2     Men in battle-fatigues have&nbsp;raided the Mo...   \n",
       "3     Simple home remedies for repairing your mobile...   \n",
       "4     Hurricane Ike, Ramadan and the billionaire pri...   \n",
       "...                                                 ...   \n",
       "4989  A man has reportedly opened fire inside a cine...   \n",
       "4990                 Davidson, Genevieve Sullivan (Mrs)   \n",
       "4991  Antoine Walker can finally breathe easy -- he ...   \n",
       "4992  California commercial crab fishermen, many str...   \n",
       "4993                     To be or not to be...in Europe   \n",
       "\n",
       "                                                    zsm         r         p  \\\n",
       "0     By MATT SCHWARTZ in Houston and WENDELL JAMIES...  0.935484  0.327684   \n",
       "1     By HOLLY RAMER, Associated Press\\n\\nCONCORD, N...  1.000000  0.314516   \n",
       "2     Men in battle-fatigues have raided the Moscow ...  0.818182  0.060811   \n",
       "3     In fact, our habit of carrying our phones cons...  0.153846  0.052632   \n",
       "4     I visited Saudi Arabia in September 2008, arri...  0.571429  0.019512   \n",
       "...                                                 ...       ...       ...   \n",
       "4989  A masked gunman has been shot dead by police a...  0.533333  0.067227   \n",
       "4990  We are continually improving the quality of ou...  0.000000  0.000000   \n",
       "4991  can finally breathe easy -- he is officially d...  0.576923  0.340909   \n",
       "4992  Jared Huffman and Jackie Speier speak at a new...  0.900415  0.434000   \n",
       "4993  The so-called Brexit referendum—the coming que...  0.857143  0.019293   \n",
       "\n",
       "             f  \n",
       "0     0.485356  \n",
       "1     0.478528  \n",
       "2     0.113208  \n",
       "3     0.078431  \n",
       "4     0.037736  \n",
       "...        ...  \n",
       "4989  0.119403  \n",
       "4990  0.000000  \n",
       "4991  0.428571  \n",
       "4992  0.585695  \n",
       "4993  0.037736  \n",
       "\n",
       "[4994 rows x 6 columns]"
      ]
     },
     "execution_count": 77,
     "metadata": {},
     "output_type": "execute_result"
    }
   ],
   "source": [
    "df"
   ]
  },
  {
   "cell_type": "code",
   "execution_count": 76,
   "metadata": {},
   "outputs": [
    {
     "name": "stdout",
     "output_type": "stream",
     "text": [
      "0.6138142640577363 0.12527889432951522 0.19087953586473355\n"
     ]
    }
   ],
   "source": [
    "print(df.r.mean(),df.p.mean(),df.f.mean())"
   ]
  },
  {
   "cell_type": "code",
   "execution_count": null,
   "metadata": {},
   "outputs": [],
   "source": []
  },
  {
   "cell_type": "markdown",
   "metadata": {},
   "source": [
    "---"
   ]
  },
  {
   "cell_type": "code",
   "execution_count": 3,
   "metadata": {},
   "outputs": [
    {
     "data": {
      "application/vnd.jupyter.widget-view+json": {
       "model_id": "7044f781631f4724924b8982ce8dbaf6",
       "version_major": 2,
       "version_minor": 0
      },
      "text/plain": [
       "Downloading:   0%|          | 0.00/792k [00:00<?, ?B/s]"
      ]
     },
     "metadata": {},
     "output_type": "display_data"
    },
    {
     "data": {
      "application/vnd.jupyter.widget-view+json": {
       "model_id": "57ace8e6ffb74e45b3dd738f2e2d39af",
       "version_major": 2,
       "version_minor": 0
      },
      "text/plain": [
       "Downloading:   0%|          | 0.00/1.39M [00:00<?, ?B/s]"
      ]
     },
     "metadata": {},
     "output_type": "display_data"
    },
    {
     "name": "stderr",
     "output_type": "stream",
     "text": [
      "/home/rechcons/PP3-NLP/.PPP-NLP-env/lib/python3.8/site-packages/transformers/models/t5/tokenization_t5_fast.py:156: FutureWarning: This tokenizer was incorrectly instantiated with a model max length of 512 which will be corrected in Transformers v5.\n",
      "For now, this behavior is kept to avoid breaking backwards compatibility when padding/encoding with `truncation is True`.\n",
      "- Be aware that you SHOULD NOT rely on t5-base automatically truncating your input to 512 when padding/encoding.\n",
      "- If you want to encode/pad to sequences longer than 512 you can either instantiate this tokenizer with `model_max_length` or pass `max_length` when encoding/padding.\n",
      "- To avoid this warning, please instantiate this tokenizer with `model_max_length` set to your preferred value.\n",
      "  warnings.warn(\n"
     ]
    }
   ],
   "source": [
    "import torch\n",
    "from transformers import AutoTokenizer, AutoModelForSeq2SeqLM\n",
    "\n",
    "model = AutoModelForSeq2SeqLM.from_pretrained('t5-base')\n",
    "tokenizer = AutoTokenizer.from_pretrained('t5-base')"
   ]
  },
  {
   "cell_type": "code",
   "execution_count": 5,
   "metadata": {},
   "outputs": [],
   "source": [
    "text = \"\"\"New York (CNN Business)Netflix is synonymous with streaming, but its competitors have a distinct advantage that threatens the streaming leader's position at the top.\n",
    "Disney has Disney+, but it also has theme parks, plush Baby Yoda dolls, blockbuster Marvel movies and ESPN. Comcast (CMCSA), Amazon (AMZN), ViacomCBS (VIACA), CNN's parent company WarnerMedia and Apple (AAPL) all have their own streaming services, too, but they also have other forms of revenue.\n",
    "As for Netflix (NFLX), its revenue driver is based entirely on building its subscriber base. It's worked out well for the company — so far. But it's starting to look like the king of streaming will soon need something other than new subscribers to keep growing.\n",
    "The streaming service reported Tuesday it now has 208 million subscribers globally, after adding 4 million subscribers in the first quarter of 2021. But that number missed expectations and the forecasts for its next quarter were also pretty weak.\n",
    "That was a big whiff for Netflix — a company coming off a massive year of growth thanks in large part to the pandemic driving people indoors — and Wall Street's reaction has not been great.\n",
    "The company's stock dropped as much as 8% on Wednesday, leading some to wonder what the future of the streamer looks like if competition continues to gain strength, people start heading outdoors and if, most importantly, its growth slows.\n",
    "\"If you hit a wall with [subscriptions] then you pretty much don't have a super growth strategy anymore in your most developed markets,\" Michael Nathanson, a media analyst and founding partner at MoffettNathanson, told CNN Business. \"What can they do to take even more revenue out of the market, above and beyond streaming revenues?\"\n",
    "Or put another way, the company's lackluster user growth last quarter is a signal that it wouldn't hurt if Netflix — a company that's lived and died with its subscriber numbers — started thinking about other ways to make money.\n",
    "An ad-supported Netflix? Not so fast\n",
    "There are ways for Netflix to make money other than raising prices or adding subscribers. The most obvious: selling advertising.\n",
    "Netflix could have 30-second commercials on their programming or get sponsors for their biggest series and films. TV has worked that way forever, why not Netflix?\n",
    "That's probably not going to happen, given that CEO Reed Hastings has been vocal about the unlikelihood of an ad-supported Netflix service. His reasoning: It doesn't make business sense.\n",
    "\"It's a judgment call... It's a belief we can build a better business, a more valuable business [without advertising],\" Hastings told Variety in September. \"You know, advertising looks easy until you get in it. Then you realize you have to rip that revenue away from other places because the total ad market isn't growing, and in fact right now it's shrinking. It's hand-to-hand combat to get people to spend less on, you know, ABC and to spend more on Netflix.\"\n",
    "Hastings added that \"there's much more growth in the consumer market than there is in advertising, which is pretty flat.\"\n",
    "He's also expressed doubts about Netflix getting into live sports or news, which could boost the service's allure to subscribers, so that's likely out, too, at least for now.\n",
    "So if Netflix is looking for other forms of near-term revenue to help support its hefty content budget ($17 billion in 2021 alone) then what can it do? There is one place that could be a revenue driver for Netflix, but if you're borrowing your mother's account you won't like it.\n",
    "Netflix could crack down on password sharing — a move that the company has been considering lately.\n",
    "\"Basically you're going to clean up some subscribers that are free riders,\" Nathanson said. \"That's going to help them get to a higher level of penetration, definitely, but not in long-term.\"\n",
    "Lackluster growth is still growth\n",
    "Missing projections is never good, but it's hardly the end of the world for Netflix. The company remains the market leader and most competitors are still far from taking the company on. And while Netflix's first-quarter subscriber growth wasn't great, and its forecasts for the next quarter alarmed investors, it was just one quarter.\n",
    "Netflix has had subscriber misses before and it's still the most dominant name in all of streaming, and even lackluster growth is still growth. It's not as if people are canceling Netflix in droves.\n",
    "Asked about Netflix's \"second act\" during the company's post-earnings call on Tuesday, Hastings again placed the company's focus on pleasing subscribers.\n",
    "\"We do want to expand. We used to do that thing shipping DVDs, and luckily we didn't get stuck with that. We didn't define that as the main thing. We define entertainment as the main thing,\" Hastings said.\n",
    "He added that he doesn't think Netflix will have a second act in the way Amazon has had with Amazon shopping and Amazon Web Services. Rather, Netflix will continue to improve and grow on what it already does best.\n",
    "\"I'll bet we end with one hopefully gigantic, hopefully defensible profit pool, and continue to improve the service for our members,\" he said. \"I wouldn't look for any large secondary pool of profits. There will be a bunch of supporting pools, like consumer products, that can be both profitable and can support the title brands.\"\"\""
   ]
  },
  {
   "cell_type": "code",
   "execution_count": 7,
   "metadata": {},
   "outputs": [
    {
     "name": "stdout",
     "output_type": "stream",
     "text": [
      "512\n"
     ]
    }
   ],
   "source": [
    "print(tokenizer.model_max_length)"
   ]
  },
  {
   "cell_type": "code",
   "execution_count": 24,
   "metadata": {},
   "outputs": [],
   "source": [
    "import math\n",
    "mole = tokenizer.model_max_length\n",
    "x = math.ceil(len(text.split())/mole)"
   ]
  },
  {
   "cell_type": "code",
   "execution_count": 96,
   "metadata": {},
   "outputs": [],
   "source": [
    "compression = 0.1\n",
    "\n",
    "ftextlen = math.ceil((1-compression)*len(text.split()))\n",
    "\n",
    "\n"
   ]
  },
  {
   "cell_type": "code",
   "execution_count": 97,
   "metadata": {},
   "outputs": [
    {
     "name": "stdout",
     "output_type": "stream",
     "text": [
      "Min Length:437, Max length:483\n"
     ]
    },
    {
     "name": "stdout",
     "output_type": "stream",
     "text": [
      "335\n",
      "Min Length:317, Max length:350\n",
      "196\n"
     ]
    }
   ],
   "source": [
    "textlist = []\n",
    "for i in range(1,x+1):\n",
    "    txt = \" \".join(str(x) for x in text.split()[mole*(i-1):mole*i])\n",
    "    tokens_input = tokenizer.encode(\"summarize: \" + txt,\n",
    "                                return_tensors='pt',\n",
    "                                max_length=mole,\n",
    "                                )\n",
    "    \n",
    "    wahrs = round(len(txt.split())/len(text.split()),2)\n",
    "    print(f\"Min Length:{math.ceil((wahrs*ftextlen)-(wahrs*ftextlen)*0.05)}, Max length:{math.ceil((wahrs*ftextlen)+(wahrs*ftextlen)*0.05)}\")\n",
    "    summary_ids = model.generate(tokens_input,  min_length=math.ceil((wahrs*ftextlen)-(wahrs*ftextlen)*0.05), \n",
    "                                                max_length=math.ceil((wahrs*ftextlen)+(wahrs*ftextlen)*0.05),num_beams=2)\n",
    "    summary = tokenizer.decode(summary_ids[0], skip_special_tokens=True)\n",
    "    print(len(summary.split()))\n",
    "    textlist.append(summary)\n",
    "finaltxt = \" \".join(str(x) for x in textlist)"
   ]
  },
  {
   "cell_type": "code",
   "execution_count": 93,
   "metadata": {},
   "outputs": [
    {
     "data": {
      "text/plain": [
       "183"
      ]
     },
     "execution_count": 93,
     "metadata": {},
     "output_type": "execute_result"
    }
   ],
   "source": [
    "len(finaltxt.split())"
   ]
  },
  {
   "cell_type": "code",
   "execution_count": 94,
   "metadata": {},
   "outputs": [
    {
     "data": {
      "text/plain": [
       "440"
      ]
     },
     "execution_count": 94,
     "metadata": {},
     "output_type": "execute_result"
    }
   ],
   "source": [
    "ftextlen"
   ]
  },
  {
   "cell_type": "code",
   "execution_count": 95,
   "metadata": {},
   "outputs": [
    {
     "data": {
      "text/plain": [
       "879"
      ]
     },
     "execution_count": 95,
     "metadata": {},
     "output_type": "execute_result"
    }
   ],
   "source": [
    "len(text.split())"
   ]
  }
 ],
 "metadata": {
  "kernelspec": {
   "display_name": "Python 3",
   "language": "python",
   "name": "python3"
  },
  "language_info": {
   "codemirror_mode": {
    "name": "ipython",
    "version": 3
   },
   "file_extension": ".py",
   "mimetype": "text/x-python",
   "name": "python",
   "nbconvert_exporter": "python",
   "pygments_lexer": "ipython3",
   "version": "3.8.13"
  },
  "orig_nbformat": 4
 },
 "nbformat": 4,
 "nbformat_minor": 2
}
