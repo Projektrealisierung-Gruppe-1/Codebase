{
 "cells": [
  {
   "cell_type": "markdown",
   "metadata": {},
   "source": [
    "# Extraktiver Transformer"
   ]
  },
  {
   "cell_type": "code",
   "execution_count": 82,
   "metadata": {},
   "outputs": [
    {
     "data": {
      "text/html": [
       "<div>\n",
       "<style scoped>\n",
       "    .dataframe tbody tr th:only-of-type {\n",
       "        vertical-align: middle;\n",
       "    }\n",
       "\n",
       "    .dataframe tbody tr th {\n",
       "        vertical-align: top;\n",
       "    }\n",
       "\n",
       "    .dataframe thead th {\n",
       "        text-align: right;\n",
       "    }\n",
       "</style>\n",
       "<table border=\"1\" class=\"dataframe\">\n",
       "  <thead>\n",
       "    <tr style=\"text-align: right;\">\n",
       "      <th></th>\n",
       "      <th>text</th>\n",
       "      <th>summary</th>\n",
       "    </tr>\n",
       "  </thead>\n",
       "  <tbody>\n",
       "    <tr>\n",
       "      <th>0</th>\n",
       "      <td>By MATT SCHWARTZ in Houston and WENDELL JAMIES...</td>\n",
       "      <td>Bleeding from a massive chest wound, Tejano st...</td>\n",
       "    </tr>\n",
       "    <tr>\n",
       "      <th>1</th>\n",
       "      <td>By HOLLY RAMER, Associated Press\\n\\nCONCORD, N...</td>\n",
       "      <td>By HOLLY RAMER, Associated Press CONCORD, N.H....</td>\n",
       "    </tr>\n",
       "    <tr>\n",
       "      <th>2</th>\n",
       "      <td>Men in battle-fatigues have raided the Moscow ...</td>\n",
       "      <td>Men in battle-fatigues have&amp;nbsp;raided the Mo...</td>\n",
       "    </tr>\n",
       "    <tr>\n",
       "      <th>3</th>\n",
       "      <td>Like all gadgets, cellphones can break. In fac...</td>\n",
       "      <td>Simple home remedies for repairing your mobile...</td>\n",
       "    </tr>\n",
       "    <tr>\n",
       "      <th>4</th>\n",
       "      <td>I visited Saudi Arabia in September 2008, arri...</td>\n",
       "      <td>Hurricane Ike, Ramadan and the billionaire pri...</td>\n",
       "    </tr>\n",
       "    <tr>\n",
       "      <th>...</th>\n",
       "      <td>...</td>\n",
       "      <td>...</td>\n",
       "    </tr>\n",
       "    <tr>\n",
       "      <th>108857</th>\n",
       "      <td>Ahumdinger TV season wrapped Wednesday night, ...</td>\n",
       "      <td>Ahumdinger TV season wrapped Wednesday night, ...</td>\n",
       "    </tr>\n",
       "    <tr>\n",
       "      <th>108858</th>\n",
       "      <td>A Senate panel reached bipartisan agreement on...</td>\n",
       "      <td>A Senate panel reached bipartisan agreement on...</td>\n",
       "    </tr>\n",
       "    <tr>\n",
       "      <th>108859</th>\n",
       "      <td>In a dramatic break with the ideological warfa...</td>\n",
       "      <td>Fragile bipartisan compromise, at best, has pr...</td>\n",
       "    </tr>\n",
       "    <tr>\n",
       "      <th>108860</th>\n",
       "      <td>In 1967, LaDonna Davis's boyfriend went on a t...</td>\n",
       "      <td>Get style news headlines from The Washington P...</td>\n",
       "    </tr>\n",
       "    <tr>\n",
       "      <th>108861</th>\n",
       "      <td>Digital money pioneer PayPal is on the prowl.\\...</td>\n",
       "      <td>Digital money pioneer PayPal is on the prowl. ...</td>\n",
       "    </tr>\n",
       "  </tbody>\n",
       "</table>\n",
       "<p>108862 rows × 2 columns</p>\n",
       "</div>"
      ],
      "text/plain": [
       "                                                     text  \\\n",
       "0       By MATT SCHWARTZ in Houston and WENDELL JAMIES...   \n",
       "1       By HOLLY RAMER, Associated Press\\n\\nCONCORD, N...   \n",
       "2       Men in battle-fatigues have raided the Moscow ...   \n",
       "3       Like all gadgets, cellphones can break. In fac...   \n",
       "4       I visited Saudi Arabia in September 2008, arri...   \n",
       "...                                                   ...   \n",
       "108857  Ahumdinger TV season wrapped Wednesday night, ...   \n",
       "108858  A Senate panel reached bipartisan agreement on...   \n",
       "108859  In a dramatic break with the ideological warfa...   \n",
       "108860  In 1967, LaDonna Davis's boyfriend went on a t...   \n",
       "108861  Digital money pioneer PayPal is on the prowl.\\...   \n",
       "\n",
       "                                                  summary  \n",
       "0       Bleeding from a massive chest wound, Tejano st...  \n",
       "1       By HOLLY RAMER, Associated Press CONCORD, N.H....  \n",
       "2       Men in battle-fatigues have&nbsp;raided the Mo...  \n",
       "3       Simple home remedies for repairing your mobile...  \n",
       "4       Hurricane Ike, Ramadan and the billionaire pri...  \n",
       "...                                                   ...  \n",
       "108857  Ahumdinger TV season wrapped Wednesday night, ...  \n",
       "108858  A Senate panel reached bipartisan agreement on...  \n",
       "108859  Fragile bipartisan compromise, at best, has pr...  \n",
       "108860  Get style news headlines from The Washington P...  \n",
       "108861  Digital money pioneer PayPal is on the prowl. ...  \n",
       "\n",
       "[108862 rows x 2 columns]"
      ]
     },
     "execution_count": 82,
     "metadata": {},
     "output_type": "execute_result"
    }
   ],
   "source": [
    "import pandas as pd\n",
    "\n",
    "df = pd.read_csv(\"drive_download/summarization_data_newsroom.csv\")\n",
    "df = df.drop(columns=['density_bin'])\n",
    "df"
   ]
  },
  {
   "cell_type": "code",
   "execution_count": 83,
   "metadata": {},
   "outputs": [
    {
     "name": "stderr",
     "output_type": "stream",
     "text": [
      "Some weights of the model checkpoint at distilbert-base-uncased were not used when initializing DistilBertModel: ['vocab_transform.bias', 'vocab_layer_norm.bias', 'vocab_projector.weight', 'vocab_projector.bias', 'vocab_layer_norm.weight', 'vocab_transform.weight']\n",
      "- This IS expected if you are initializing DistilBertModel from the checkpoint of a model trained on another task or with another architecture (e.g. initializing a BertForSequenceClassification model from a BertForPreTraining model).\n",
      "- This IS NOT expected if you are initializing DistilBertModel from the checkpoint of a model that you expect to be exactly identical (initializing a BertForSequenceClassification model from a BertForSequenceClassification model).\n"
     ]
    }
   ],
   "source": [
    "from summarizer import Summarizer\n",
    "model = Summarizer('distilbert-base-uncased')"
   ]
  },
  {
   "cell_type": "code",
   "execution_count": 84,
   "metadata": {},
   "outputs": [],
   "source": [
    "def zsm_df(txt):\n",
    "    zsm_txt = model(txt, ratio=0.6)\n",
    "    return zsm_txt"
   ]
  },
  {
   "cell_type": "code",
   "execution_count": 85,
   "metadata": {},
   "outputs": [
    {
     "data": {
      "text/html": [
       "<div>\n",
       "<style scoped>\n",
       "    .dataframe tbody tr th:only-of-type {\n",
       "        vertical-align: middle;\n",
       "    }\n",
       "\n",
       "    .dataframe tbody tr th {\n",
       "        vertical-align: top;\n",
       "    }\n",
       "\n",
       "    .dataframe thead th {\n",
       "        text-align: right;\n",
       "    }\n",
       "</style>\n",
       "<table border=\"1\" class=\"dataframe\">\n",
       "  <thead>\n",
       "    <tr style=\"text-align: right;\">\n",
       "      <th></th>\n",
       "      <th>text</th>\n",
       "      <th>summary</th>\n",
       "    </tr>\n",
       "  </thead>\n",
       "  <tbody>\n",
       "    <tr>\n",
       "      <th>0</th>\n",
       "      <td>By MATT SCHWARTZ in Houston and WENDELL JAMIES...</td>\n",
       "      <td>Bleeding from a massive chest wound, Tejano st...</td>\n",
       "    </tr>\n",
       "    <tr>\n",
       "      <th>1</th>\n",
       "      <td>By HOLLY RAMER, Associated Press\\n\\nCONCORD, N...</td>\n",
       "      <td>By HOLLY RAMER, Associated Press CONCORD, N.H....</td>\n",
       "    </tr>\n",
       "    <tr>\n",
       "      <th>2</th>\n",
       "      <td>Men in battle-fatigues have raided the Moscow ...</td>\n",
       "      <td>Men in battle-fatigues have&amp;nbsp;raided the Mo...</td>\n",
       "    </tr>\n",
       "    <tr>\n",
       "      <th>3</th>\n",
       "      <td>Like all gadgets, cellphones can break. In fac...</td>\n",
       "      <td>Simple home remedies for repairing your mobile...</td>\n",
       "    </tr>\n",
       "    <tr>\n",
       "      <th>4</th>\n",
       "      <td>I visited Saudi Arabia in September 2008, arri...</td>\n",
       "      <td>Hurricane Ike, Ramadan and the billionaire pri...</td>\n",
       "    </tr>\n",
       "    <tr>\n",
       "      <th>...</th>\n",
       "      <td>...</td>\n",
       "      <td>...</td>\n",
       "    </tr>\n",
       "    <tr>\n",
       "      <th>495</th>\n",
       "      <td>Starbucks doesn’t offer bank accounts, but peo...</td>\n",
       "      <td>And the amount has doubled rapidly.</td>\n",
       "    </tr>\n",
       "    <tr>\n",
       "      <th>496</th>\n",
       "      <td>It was 1350º, 1665º, 2960º, and 1270º in the g...</td>\n",
       "      <td>He showed he could take the heat</td>\n",
       "    </tr>\n",
       "    <tr>\n",
       "      <th>497</th>\n",
       "      <td>Right now, Joshua has the perfect resumé: Lond...</td>\n",
       "      <td>The warrior in Anthony Joshua is focused on on...</td>\n",
       "    </tr>\n",
       "    <tr>\n",
       "      <th>498</th>\n",
       "      <td>Halle Berry, Gabriel Aubry and Nahla in London...</td>\n",
       "      <td>Berry and Aubry are co-parenting their daughte...</td>\n",
       "    </tr>\n",
       "    <tr>\n",
       "      <th>499</th>\n",
       "      <td>CHICAGO, Dec. 7— Researchers have confirmed th...</td>\n",
       "      <td>LEAD: Researchers have confirmed that a baby c...</td>\n",
       "    </tr>\n",
       "  </tbody>\n",
       "</table>\n",
       "<p>500 rows × 2 columns</p>\n",
       "</div>"
      ],
      "text/plain": [
       "                                                  text  \\\n",
       "0    By MATT SCHWARTZ in Houston and WENDELL JAMIES...   \n",
       "1    By HOLLY RAMER, Associated Press\\n\\nCONCORD, N...   \n",
       "2    Men in battle-fatigues have raided the Moscow ...   \n",
       "3    Like all gadgets, cellphones can break. In fac...   \n",
       "4    I visited Saudi Arabia in September 2008, arri...   \n",
       "..                                                 ...   \n",
       "495  Starbucks doesn’t offer bank accounts, but peo...   \n",
       "496  It was 1350º, 1665º, 2960º, and 1270º in the g...   \n",
       "497  Right now, Joshua has the perfect resumé: Lond...   \n",
       "498  Halle Berry, Gabriel Aubry and Nahla in London...   \n",
       "499  CHICAGO, Dec. 7— Researchers have confirmed th...   \n",
       "\n",
       "                                               summary  \n",
       "0    Bleeding from a massive chest wound, Tejano st...  \n",
       "1    By HOLLY RAMER, Associated Press CONCORD, N.H....  \n",
       "2    Men in battle-fatigues have&nbsp;raided the Mo...  \n",
       "3    Simple home remedies for repairing your mobile...  \n",
       "4    Hurricane Ike, Ramadan and the billionaire pri...  \n",
       "..                                                 ...  \n",
       "495                And the amount has doubled rapidly.  \n",
       "496                   He showed he could take the heat  \n",
       "497  The warrior in Anthony Joshua is focused on on...  \n",
       "498  Berry and Aubry are co-parenting their daughte...  \n",
       "499  LEAD: Researchers have confirmed that a baby c...  \n",
       "\n",
       "[500 rows x 2 columns]"
      ]
     },
     "execution_count": 85,
     "metadata": {},
     "output_type": "execute_result"
    }
   ],
   "source": [
    "df = df[:500]\n",
    "df"
   ]
  },
  {
   "cell_type": "code",
   "execution_count": 86,
   "metadata": {},
   "outputs": [
    {
     "name": "stderr",
     "output_type": "stream",
     "text": [
      "/tmp/ipykernel_4634/3737696521.py:1: SettingWithCopyWarning: \n",
      "A value is trying to be set on a copy of a slice from a DataFrame.\n",
      "Try using .loc[row_indexer,col_indexer] = value instead\n",
      "\n",
      "See the caveats in the documentation: https://pandas.pydata.org/pandas-docs/stable/user_guide/indexing.html#returning-a-view-versus-a-copy\n",
      "  df[\"zsm\"] = df.apply(lambda row : zsm_df(row[\"text\"]), axis = 1)\n"
     ]
    }
   ],
   "source": [
    "df[\"zsm\"] = df.apply(lambda row : zsm_df(row[\"text\"]), axis = 1)"
   ]
  },
  {
   "cell_type": "code",
   "execution_count": 87,
   "metadata": {},
   "outputs": [],
   "source": [
    "df = df.drop(index=df[df[\"zsm\"]==\"\"].index).reset_index(drop=True)"
   ]
  },
  {
   "cell_type": "code",
   "execution_count": 88,
   "metadata": {},
   "outputs": [
    {
     "data": {
      "text/html": [
       "<div>\n",
       "<style scoped>\n",
       "    .dataframe tbody tr th:only-of-type {\n",
       "        vertical-align: middle;\n",
       "    }\n",
       "\n",
       "    .dataframe tbody tr th {\n",
       "        vertical-align: top;\n",
       "    }\n",
       "\n",
       "    .dataframe thead th {\n",
       "        text-align: right;\n",
       "    }\n",
       "</style>\n",
       "<table border=\"1\" class=\"dataframe\">\n",
       "  <thead>\n",
       "    <tr style=\"text-align: right;\">\n",
       "      <th></th>\n",
       "      <th>text</th>\n",
       "      <th>summary</th>\n",
       "      <th>zsm</th>\n",
       "    </tr>\n",
       "  </thead>\n",
       "  <tbody>\n",
       "    <tr>\n",
       "      <th>0</th>\n",
       "      <td>By MATT SCHWARTZ in Houston and WENDELL JAMIES...</td>\n",
       "      <td>Bleeding from a massive chest wound, Tejano st...</td>\n",
       "      <td>By MATT SCHWARTZ in Houston and WENDELL JAMIES...</td>\n",
       "    </tr>\n",
       "    <tr>\n",
       "      <th>1</th>\n",
       "      <td>By HOLLY RAMER, Associated Press\\n\\nCONCORD, N...</td>\n",
       "      <td>By HOLLY RAMER, Associated Press CONCORD, N.H....</td>\n",
       "      <td>By HOLLY RAMER, Associated Press\\n\\nCONCORD, N...</td>\n",
       "    </tr>\n",
       "    <tr>\n",
       "      <th>2</th>\n",
       "      <td>Men in battle-fatigues have raided the Moscow ...</td>\n",
       "      <td>Men in battle-fatigues have&amp;nbsp;raided the Mo...</td>\n",
       "      <td>Men in battle-fatigues have raided the Moscow ...</td>\n",
       "    </tr>\n",
       "    <tr>\n",
       "      <th>3</th>\n",
       "      <td>Like all gadgets, cellphones can break. In fac...</td>\n",
       "      <td>Simple home remedies for repairing your mobile...</td>\n",
       "      <td>In fact, our habit of carrying our phones cons...</td>\n",
       "    </tr>\n",
       "    <tr>\n",
       "      <th>4</th>\n",
       "      <td>I visited Saudi Arabia in September 2008, arri...</td>\n",
       "      <td>Hurricane Ike, Ramadan and the billionaire pri...</td>\n",
       "      <td>I visited Saudi Arabia in September 2008, arri...</td>\n",
       "    </tr>\n",
       "    <tr>\n",
       "      <th>...</th>\n",
       "      <td>...</td>\n",
       "      <td>...</td>\n",
       "      <td>...</td>\n",
       "    </tr>\n",
       "    <tr>\n",
       "      <th>495</th>\n",
       "      <td>Starbucks doesn’t offer bank accounts, but peo...</td>\n",
       "      <td>And the amount has doubled rapidly.</td>\n",
       "      <td>Starbucks doesn’t offer bank accounts, but peo...</td>\n",
       "    </tr>\n",
       "    <tr>\n",
       "      <th>496</th>\n",
       "      <td>It was 1350º, 1665º, 2960º, and 1270º in the g...</td>\n",
       "      <td>He showed he could take the heat</td>\n",
       "      <td>It was 1350º, 1665º, 2960º, and 1270º in the g...</td>\n",
       "    </tr>\n",
       "    <tr>\n",
       "      <th>497</th>\n",
       "      <td>Right now, Joshua has the perfect resumé: Lond...</td>\n",
       "      <td>The warrior in Anthony Joshua is focused on on...</td>\n",
       "      <td>Right now, Joshua has the perfect resumé: Lond...</td>\n",
       "    </tr>\n",
       "    <tr>\n",
       "      <th>498</th>\n",
       "      <td>Halle Berry, Gabriel Aubry and Nahla in London...</td>\n",
       "      <td>Berry and Aubry are co-parenting their daughte...</td>\n",
       "      <td>Halle Berry, Gabriel Aubry and Nahla in London...</td>\n",
       "    </tr>\n",
       "    <tr>\n",
       "      <th>499</th>\n",
       "      <td>CHICAGO, Dec. 7— Researchers have confirmed th...</td>\n",
       "      <td>LEAD: Researchers have confirmed that a baby c...</td>\n",
       "      <td>CHICAGO, Dec. 7— Researchers have confirmed th...</td>\n",
       "    </tr>\n",
       "  </tbody>\n",
       "</table>\n",
       "<p>500 rows × 3 columns</p>\n",
       "</div>"
      ],
      "text/plain": [
       "                                                  text  \\\n",
       "0    By MATT SCHWARTZ in Houston and WENDELL JAMIES...   \n",
       "1    By HOLLY RAMER, Associated Press\\n\\nCONCORD, N...   \n",
       "2    Men in battle-fatigues have raided the Moscow ...   \n",
       "3    Like all gadgets, cellphones can break. In fac...   \n",
       "4    I visited Saudi Arabia in September 2008, arri...   \n",
       "..                                                 ...   \n",
       "495  Starbucks doesn’t offer bank accounts, but peo...   \n",
       "496  It was 1350º, 1665º, 2960º, and 1270º in the g...   \n",
       "497  Right now, Joshua has the perfect resumé: Lond...   \n",
       "498  Halle Berry, Gabriel Aubry and Nahla in London...   \n",
       "499  CHICAGO, Dec. 7— Researchers have confirmed th...   \n",
       "\n",
       "                                               summary  \\\n",
       "0    Bleeding from a massive chest wound, Tejano st...   \n",
       "1    By HOLLY RAMER, Associated Press CONCORD, N.H....   \n",
       "2    Men in battle-fatigues have&nbsp;raided the Mo...   \n",
       "3    Simple home remedies for repairing your mobile...   \n",
       "4    Hurricane Ike, Ramadan and the billionaire pri...   \n",
       "..                                                 ...   \n",
       "495                And the amount has doubled rapidly.   \n",
       "496                   He showed he could take the heat   \n",
       "497  The warrior in Anthony Joshua is focused on on...   \n",
       "498  Berry and Aubry are co-parenting their daughte...   \n",
       "499  LEAD: Researchers have confirmed that a baby c...   \n",
       "\n",
       "                                                   zsm  \n",
       "0    By MATT SCHWARTZ in Houston and WENDELL JAMIES...  \n",
       "1    By HOLLY RAMER, Associated Press\\n\\nCONCORD, N...  \n",
       "2    Men in battle-fatigues have raided the Moscow ...  \n",
       "3    In fact, our habit of carrying our phones cons...  \n",
       "4    I visited Saudi Arabia in September 2008, arri...  \n",
       "..                                                 ...  \n",
       "495  Starbucks doesn’t offer bank accounts, but peo...  \n",
       "496  It was 1350º, 1665º, 2960º, and 1270º in the g...  \n",
       "497  Right now, Joshua has the perfect resumé: Lond...  \n",
       "498  Halle Berry, Gabriel Aubry and Nahla in London...  \n",
       "499  CHICAGO, Dec. 7— Researchers have confirmed th...  \n",
       "\n",
       "[500 rows x 3 columns]"
      ]
     },
     "execution_count": 88,
     "metadata": {},
     "output_type": "execute_result"
    }
   ],
   "source": [
    "df"
   ]
  },
  {
   "cell_type": "code",
   "execution_count": 89,
   "metadata": {},
   "outputs": [
    {
     "name": "stdout",
     "output_type": "stream",
     "text": [
      "{'rouge1': 0.17833193557790705, 'rouge2': 0.11801871710245598, 'rougeL': 0.15161806024084706, 'rougeLsum': 0.1554151438424187}\n"
     ]
    }
   ],
   "source": [
    "import evaluate\n",
    "\n",
    "rouge = evaluate.load('rouge')\n",
    "results = rouge.compute(predictions=df[\"zsm\"],\n",
    "                        references=df[\"summary\"])\n",
    "print(results)"
   ]
  },
  {
   "cell_type": "markdown",
   "metadata": {},
   "source": [
    "---\n",
    "# Abstraktiver Transformer"
   ]
  },
  {
   "cell_type": "code",
   "execution_count": 2,
   "metadata": {},
   "outputs": [
    {
     "name": "stderr",
     "output_type": "stream",
     "text": [
      "2023-07-26 16:52:20.478419: I tensorflow/core/platform/cpu_feature_guard.cc:193] This TensorFlow binary is optimized with oneAPI Deep Neural Network Library (oneDNN) to use the following CPU instructions in performance-critical operations:  SSE4.1 SSE4.2 AVX AVX2 AVX512F AVX512_VNNI FMA\n",
      "To enable them in other operations, rebuild TensorFlow with the appropriate compiler flags.\n",
      "/home/rechcons/PP3-NLP/.PPP-NLP-env/lib/python3.8/site-packages/transformers/models/t5/tokenization_t5_fast.py:156: FutureWarning: This tokenizer was incorrectly instantiated with a model max length of 512 which will be corrected in Transformers v5.\n",
      "For now, this behavior is kept to avoid breaking backwards compatibility when padding/encoding with `truncation is True`.\n",
      "- Be aware that you SHOULD NOT rely on t5-base automatically truncating your input to 512 when padding/encoding.\n",
      "- If you want to encode/pad to sequences longer than 512 you can either instantiate this tokenizer with `model_max_length` or pass `max_length` when encoding/padding.\n",
      "- To avoid this warning, please instantiate this tokenizer with `model_max_length` set to your preferred value.\n",
      "  warnings.warn(\n"
     ]
    }
   ],
   "source": [
    "import torch\n",
    "from transformers import AutoTokenizer, AutoModelForSeq2SeqLM\n",
    "\n",
    "model = AutoModelForSeq2SeqLM.from_pretrained('t5-base')\n",
    "tokenizer = AutoTokenizer.from_pretrained('t5-base')"
   ]
  },
  {
   "cell_type": "code",
   "execution_count": 3,
   "metadata": {},
   "outputs": [],
   "source": [
    "text = \"\"\"New York (CNN Business)Netflix is synonymous with streaming, but its competitors have a distinct advantage that threatens the streaming leader's position at the top.\n",
    "Disney has Disney+, but it also has theme parks, plush Baby Yoda dolls, blockbuster Marvel movies and ESPN. Comcast (CMCSA), Amazon (AMZN), ViacomCBS (VIACA), CNN's parent company WarnerMedia and Apple (AAPL) all have their own streaming services, too, but they also have other forms of revenue.\n",
    "As for Netflix (NFLX), its revenue driver is based entirely on building its subscriber base. It's worked out well for the company — so far. But it's starting to look like the king of streaming will soon need something other than new subscribers to keep growing.\n",
    "The streaming service reported Tuesday it now has 208 million subscribers globally, after adding 4 million subscribers in the first quarter of 2021. But that number missed expectations and the forecasts for its next quarter were also pretty weak.\n",
    "That was a big whiff for Netflix — a company coming off a massive year of growth thanks in large part to the pandemic driving people indoors — and Wall Street's reaction has not been great.\n",
    "The company's stock dropped as much as 8% on Wednesday, leading some to wonder what the future of the streamer looks like if competition continues to gain strength, people start heading outdoors and if, most importantly, its growth slows.\n",
    "\"If you hit a wall with [subscriptions] then you pretty much don't have a super growth strategy anymore in your most developed markets,\" Michael Nathanson, a media analyst and founding partner at MoffettNathanson, told CNN Business. \"What can they do to take even more revenue out of the market, above and beyond streaming revenues?\"\n",
    "Or put another way, the company's lackluster user growth last quarter is a signal that it wouldn't hurt if Netflix — a company that's lived and died with its subscriber numbers — started thinking about other ways to make money.\n",
    "An ad-supported Netflix? Not so fast\n",
    "There are ways for Netflix to make money other than raising prices or adding subscribers. The most obvious: selling advertising.\n",
    "Netflix could have 30-second commercials on their programming or get sponsors for their biggest series and films. TV has worked that way forever, why not Netflix?\n",
    "That's probably not going to happen, given that CEO Reed Hastings has been vocal about the unlikelihood of an ad-supported Netflix service. His reasoning: It doesn't make business sense.\n",
    "\"It's a judgment call... It's a belief we can build a better business, a more valuable business [without advertising],\" Hastings told Variety in September. \"You know, advertising looks easy until you get in it. Then you realize you have to rip that revenue away from other places because the total ad market isn't growing, and in fact right now it's shrinking. It's hand-to-hand combat to get people to spend less on, you know, ABC and to spend more on Netflix.\"\n",
    "Hastings added that \"there's much more growth in the consumer market than there is in advertising, which is pretty flat.\"\n",
    "He's also expressed doubts about Netflix getting into live sports or news, which could boost the service's allure to subscribers, so that's likely out, too, at least for now.\n",
    "So if Netflix is looking for other forms of near-term revenue to help support its hefty content budget ($17 billion in 2021 alone) then what can it do? There is one place that could be a revenue driver for Netflix, but if you're borrowing your mother's account you won't like it.\n",
    "Netflix could crack down on password sharing — a move that the company has been considering lately.\n",
    "\"Basically you're going to clean up some subscribers that are free riders,\" Nathanson said. \"That's going to help them get to a higher level of penetration, definitely, but not in long-term.\"\n",
    "Lackluster growth is still growth\n",
    "Missing projections is never good, but it's hardly the end of the world for Netflix. The company remains the market leader and most competitors are still far from taking the company on. And while Netflix's first-quarter subscriber growth wasn't great, and its forecasts for the next quarter alarmed investors, it was just one quarter.\n",
    "Netflix has had subscriber misses before and it's still the most dominant name in all of streaming, and even lackluster growth is still growth. It's not as if people are canceling Netflix in droves.\n",
    "Asked about Netflix's \"second act\" during the company's post-earnings call on Tuesday, Hastings again placed the company's focus on pleasing subscribers.\n",
    "\"We do want to expand. We used to do that thing shipping DVDs, and luckily we didn't get stuck with that. We didn't define that as the main thing. We define entertainment as the main thing,\" Hastings said.\n",
    "He added that he doesn't think Netflix will have a second act in the way Amazon has had with Amazon shopping and Amazon Web Services. Rather, Netflix will continue to improve and grow on what it already does best.\n",
    "\"I'll bet we end with one hopefully gigantic, hopefully defensible profit pool, and continue to improve the service for our members,\" he said. \"I wouldn't look for any large secondary pool of profits. There will be a bunch of supporting pools, like consumer products, that can be both profitable and can support the title brands.\"\"\""
   ]
  },
  {
   "cell_type": "code",
   "execution_count": 4,
   "metadata": {},
   "outputs": [
    {
     "name": "stdout",
     "output_type": "stream",
     "text": [
      "512\n"
     ]
    }
   ],
   "source": [
    "print(tokenizer.model_max_length)"
   ]
  },
  {
   "cell_type": "code",
   "execution_count": 5,
   "metadata": {},
   "outputs": [],
   "source": [
    "import math\n",
    "mole = tokenizer.model_max_length\n",
    "x = math.ceil(len(text.split())/mole)"
   ]
  },
  {
   "cell_type": "code",
   "execution_count": 6,
   "metadata": {},
   "outputs": [],
   "source": [
    "compression = 0.6\n",
    "\n",
    "ftextlen = math.ceil((1-compression)*len(text.split()))"
   ]
  },
  {
   "cell_type": "code",
   "execution_count": 8,
   "metadata": {},
   "outputs": [
    {
     "name": "stdout",
     "output_type": "stream",
     "text": [
      "Min Length:437, Max length:483\n"
     ]
    },
    {
     "ename": "ValueError",
     "evalue": "The following `model_kwargs` are not used by the model: ['truncation'] (note: typos in the generate arguments will also show up in this list)",
     "output_type": "error",
     "traceback": [
      "\u001b[0;31m---------------------------------------------------------------------------\u001b[0m",
      "\u001b[0;31mValueError\u001b[0m                                Traceback (most recent call last)",
      "Cell \u001b[0;32mIn[8], line 11\u001b[0m\n\u001b[1;32m      9\u001b[0m wahrs \u001b[39m=\u001b[39m \u001b[39mround\u001b[39m(\u001b[39mlen\u001b[39m(txt\u001b[39m.\u001b[39msplit())\u001b[39m/\u001b[39m\u001b[39mlen\u001b[39m(text\u001b[39m.\u001b[39msplit()),\u001b[39m2\u001b[39m)\n\u001b[1;32m     10\u001b[0m \u001b[39mprint\u001b[39m(\u001b[39mf\u001b[39m\u001b[39m\"\u001b[39m\u001b[39mMin Length:\u001b[39m\u001b[39m{\u001b[39;00mmath\u001b[39m.\u001b[39mceil((wahrs\u001b[39m*\u001b[39mftextlen)\u001b[39m-\u001b[39m(wahrs\u001b[39m*\u001b[39mftextlen)\u001b[39m*\u001b[39m\u001b[39m0.05\u001b[39m)\u001b[39m}\u001b[39;00m\u001b[39m, Max length:\u001b[39m\u001b[39m{\u001b[39;00mmath\u001b[39m.\u001b[39mceil((wahrs\u001b[39m*\u001b[39mftextlen)\u001b[39m+\u001b[39m(wahrs\u001b[39m*\u001b[39mftextlen)\u001b[39m*\u001b[39m\u001b[39m0.05\u001b[39m)\u001b[39m}\u001b[39;00m\u001b[39m\"\u001b[39m)\n\u001b[0;32m---> 11\u001b[0m summary_ids \u001b[39m=\u001b[39m model\u001b[39m.\u001b[39;49mgenerate(tokens_input,  min_length\u001b[39m=\u001b[39;49mmath\u001b[39m.\u001b[39;49mceil((wahrs\u001b[39m*\u001b[39;49mftextlen)\u001b[39m-\u001b[39;49m(wahrs\u001b[39m*\u001b[39;49mftextlen)\u001b[39m*\u001b[39;49m\u001b[39m0.05\u001b[39;49m), max_length\u001b[39m=\u001b[39;49mmath\u001b[39m.\u001b[39;49mceil((wahrs\u001b[39m*\u001b[39;49mftextlen)\u001b[39m+\u001b[39;49m(wahrs\u001b[39m*\u001b[39;49mftextlen)\u001b[39m*\u001b[39;49m\u001b[39m0.05\u001b[39;49m),num_beams\u001b[39m=\u001b[39;49m\u001b[39m2\u001b[39;49m,truncation\u001b[39m=\u001b[39;49m\u001b[39mTrue\u001b[39;49;00m)\n\u001b[1;32m     12\u001b[0m summary \u001b[39m=\u001b[39m tokenizer\u001b[39m.\u001b[39mdecode(summary_ids[\u001b[39m0\u001b[39m], skip_special_tokens\u001b[39m=\u001b[39m\u001b[39mTrue\u001b[39;00m)\n\u001b[1;32m     13\u001b[0m \u001b[39mprint\u001b[39m(\u001b[39mlen\u001b[39m(summary\u001b[39m.\u001b[39msplit()))\n",
      "File \u001b[0;32m~/PP3-NLP/.PPP-NLP-env/lib/python3.8/site-packages/torch/autograd/grad_mode.py:26\u001b[0m, in \u001b[0;36m_DecoratorContextManager.__call__.<locals>.decorate_context\u001b[0;34m(*args, **kwargs)\u001b[0m\n\u001b[1;32m     23\u001b[0m \u001b[39m@functools\u001b[39m\u001b[39m.\u001b[39mwraps(func)\n\u001b[1;32m     24\u001b[0m \u001b[39mdef\u001b[39;00m \u001b[39mdecorate_context\u001b[39m(\u001b[39m*\u001b[39margs, \u001b[39m*\u001b[39m\u001b[39m*\u001b[39mkwargs):\n\u001b[1;32m     25\u001b[0m     \u001b[39mwith\u001b[39;00m \u001b[39mself\u001b[39m\u001b[39m.\u001b[39m\u001b[39m__class__\u001b[39m():\n\u001b[0;32m---> 26\u001b[0m         \u001b[39mreturn\u001b[39;00m func(\u001b[39m*\u001b[39;49margs, \u001b[39m*\u001b[39;49m\u001b[39m*\u001b[39;49mkwargs)\n",
      "File \u001b[0;32m~/PP3-NLP/.PPP-NLP-env/lib/python3.8/site-packages/transformers/generation_utils.py:1268\u001b[0m, in \u001b[0;36mGenerationMixin.generate\u001b[0;34m(self, inputs, max_length, min_length, do_sample, early_stopping, num_beams, temperature, penalty_alpha, top_k, top_p, typical_p, repetition_penalty, bad_words_ids, force_words_ids, bos_token_id, pad_token_id, eos_token_id, length_penalty, no_repeat_ngram_size, encoder_no_repeat_ngram_size, num_return_sequences, max_time, max_new_tokens, decoder_start_token_id, use_cache, num_beam_groups, diversity_penalty, prefix_allowed_tokens_fn, logits_processor, renormalize_logits, stopping_criteria, constraints, output_attentions, output_hidden_states, output_scores, return_dict_in_generate, forced_bos_token_id, forced_eos_token_id, remove_invalid_values, synced_gpus, exponential_decay_length_penalty, suppress_tokens, begin_suppress_tokens, forced_decoder_ids, **model_kwargs)\u001b[0m\n\u001b[1;32m   1266\u001b[0m \u001b[39m# 0. Validate the `.generate()` call\u001b[39;00m\n\u001b[1;32m   1267\u001b[0m \u001b[39mself\u001b[39m\u001b[39m.\u001b[39m_validate_model_class()\n\u001b[0;32m-> 1268\u001b[0m \u001b[39mself\u001b[39;49m\u001b[39m.\u001b[39;49m_validate_model_kwargs(model_kwargs\u001b[39m.\u001b[39;49mcopy())\n\u001b[1;32m   1270\u001b[0m \u001b[39m# 1. Set generation parameters if not already defined\u001b[39;00m\n\u001b[1;32m   1271\u001b[0m bos_token_id \u001b[39m=\u001b[39m bos_token_id \u001b[39mif\u001b[39;00m bos_token_id \u001b[39mis\u001b[39;00m \u001b[39mnot\u001b[39;00m \u001b[39mNone\u001b[39;00m \u001b[39melse\u001b[39;00m \u001b[39mself\u001b[39m\u001b[39m.\u001b[39mconfig\u001b[39m.\u001b[39mbos_token_id\n",
      "File \u001b[0;32m~/PP3-NLP/.PPP-NLP-env/lib/python3.8/site-packages/transformers/generation_utils.py:964\u001b[0m, in \u001b[0;36mGenerationMixin._validate_model_kwargs\u001b[0;34m(self, model_kwargs)\u001b[0m\n\u001b[1;32m    961\u001b[0m         unused_model_args\u001b[39m.\u001b[39mappend(key)\n\u001b[1;32m    963\u001b[0m \u001b[39mif\u001b[39;00m unused_model_args:\n\u001b[0;32m--> 964\u001b[0m     \u001b[39mraise\u001b[39;00m \u001b[39mValueError\u001b[39;00m(\n\u001b[1;32m    965\u001b[0m         \u001b[39mf\u001b[39m\u001b[39m\"\u001b[39m\u001b[39mThe following `model_kwargs` are not used by the model: \u001b[39m\u001b[39m{\u001b[39;00munused_model_args\u001b[39m}\u001b[39;00m\u001b[39m (note: typos in the\u001b[39m\u001b[39m\"\u001b[39m\n\u001b[1;32m    966\u001b[0m         \u001b[39m\"\u001b[39m\u001b[39m generate arguments will also show up in this list)\u001b[39m\u001b[39m\"\u001b[39m\n\u001b[1;32m    967\u001b[0m     )\n",
      "\u001b[0;31mValueError\u001b[0m: The following `model_kwargs` are not used by the model: ['truncation'] (note: typos in the generate arguments will also show up in this list)"
     ]
    }
   ],
   "source": [
    "textlist = []\n",
    "for i in range(1,x+1):\n",
    "    txt = \" \".join(str(x) for x in text.split()[mole*(i-1):mole*i])\n",
    "    tokens_input = tokenizer.encode(\"summarize: \" + txt,\n",
    "                                return_tensors='pt',\n",
    "                                max_length=mole,\n",
    "                                )\n",
    "    \n",
    "    wahrs = round(len(txt.split())/len(text.split()),2)\n",
    "    print(f\"Min Length:{math.ceil((wahrs*ftextlen)-(wahrs*ftextlen)*0.05)}, Max length:{math.ceil((wahrs*ftextlen)+(wahrs*ftextlen)*0.05)}\")\n",
    "    summary_ids = model.generate(tokens_input,  min_length=math.ceil((wahrs*ftextlen)-(wahrs*ftextlen)*0.05), max_length=math.ceil((wahrs*ftextlen)+(wahrs*ftextlen)*0.05),num_beams=2)\n",
    "    summary = tokenizer.decode(summary_ids[0], skip_special_tokens=True)\n",
    "    print(len(summary.split()))\n",
    "    textlist.append(summary)\n",
    "finaltxt = \" \".join(str(x) for x in textlist)"
   ]
  },
  {
   "cell_type": "code",
   "execution_count": null,
   "metadata": {},
   "outputs": [
    {
     "data": {
      "text/plain": [
       "531"
      ]
     },
     "execution_count": 7,
     "metadata": {},
     "output_type": "execute_result"
    }
   ],
   "source": [
    "len(finaltxt.split())"
   ]
  },
  {
   "cell_type": "code",
   "execution_count": null,
   "metadata": {},
   "outputs": [
    {
     "data": {
      "text/plain": [
       "792"
      ]
     },
     "execution_count": 8,
     "metadata": {},
     "output_type": "execute_result"
    }
   ],
   "source": [
    "ftextlen"
   ]
  },
  {
   "cell_type": "code",
   "execution_count": null,
   "metadata": {},
   "outputs": [
    {
     "data": {
      "text/plain": [
       "879"
      ]
     },
     "execution_count": 9,
     "metadata": {},
     "output_type": "execute_result"
    }
   ],
   "source": [
    "len(text.split())"
   ]
  },
  {
   "cell_type": "markdown",
   "metadata": {},
   "source": [
    "---"
   ]
  },
  {
   "cell_type": "markdown",
   "metadata": {},
   "source": [
    "# Summarizer + Paraphrasing"
   ]
  },
  {
   "cell_type": "code",
   "execution_count": 90,
   "metadata": {},
   "outputs": [
    {
     "name": "stderr",
     "output_type": "stream",
     "text": [
      "[nltk_data] Downloading package punkt to /home/rechcons/nltk_data...\n",
      "[nltk_data]   Package punkt is already up-to-date!\n"
     ]
    }
   ],
   "source": [
    "from transformers import pipeline\n",
    "from summarizer import Summarizer\n",
    "import nltk\n",
    "nltk.download('punkt')\n",
    "\n",
    "from nltk import tokenize\n",
    "\n",
    "def summarizer(txt,r,Summodel,pipe):\n",
    "    zwstxt = Summodel(txt, ratio=r)\n",
    "\n",
    "    zwstxtl = tokenize.sent_tokenize(zwstxt)\n",
    "\n",
    "    output = \" \".join([pipe(\"paraphrase:\"+ sent)[0][\"generated_text\"] for sent in zwstxtl])\n",
    "    \n",
    "    return output\n"
   ]
  },
  {
   "cell_type": "code",
   "execution_count": 91,
   "metadata": {},
   "outputs": [
    {
     "data": {
      "text/html": [
       "<div>\n",
       "<style scoped>\n",
       "    .dataframe tbody tr th:only-of-type {\n",
       "        vertical-align: middle;\n",
       "    }\n",
       "\n",
       "    .dataframe tbody tr th {\n",
       "        vertical-align: top;\n",
       "    }\n",
       "\n",
       "    .dataframe thead th {\n",
       "        text-align: right;\n",
       "    }\n",
       "</style>\n",
       "<table border=\"1\" class=\"dataframe\">\n",
       "  <thead>\n",
       "    <tr style=\"text-align: right;\">\n",
       "      <th></th>\n",
       "      <th>text</th>\n",
       "      <th>summary</th>\n",
       "    </tr>\n",
       "  </thead>\n",
       "  <tbody>\n",
       "    <tr>\n",
       "      <th>0</th>\n",
       "      <td>By MATT SCHWARTZ in Houston and WENDELL JAMIES...</td>\n",
       "      <td>Bleeding from a massive chest wound, Tejano st...</td>\n",
       "    </tr>\n",
       "    <tr>\n",
       "      <th>1</th>\n",
       "      <td>By HOLLY RAMER, Associated Press\\n\\nCONCORD, N...</td>\n",
       "      <td>By HOLLY RAMER, Associated Press CONCORD, N.H....</td>\n",
       "    </tr>\n",
       "    <tr>\n",
       "      <th>2</th>\n",
       "      <td>Men in battle-fatigues have raided the Moscow ...</td>\n",
       "      <td>Men in battle-fatigues have&amp;nbsp;raided the Mo...</td>\n",
       "    </tr>\n",
       "    <tr>\n",
       "      <th>3</th>\n",
       "      <td>Like all gadgets, cellphones can break. In fac...</td>\n",
       "      <td>Simple home remedies for repairing your mobile...</td>\n",
       "    </tr>\n",
       "    <tr>\n",
       "      <th>4</th>\n",
       "      <td>I visited Saudi Arabia in September 2008, arri...</td>\n",
       "      <td>Hurricane Ike, Ramadan and the billionaire pri...</td>\n",
       "    </tr>\n",
       "    <tr>\n",
       "      <th>...</th>\n",
       "      <td>...</td>\n",
       "      <td>...</td>\n",
       "    </tr>\n",
       "    <tr>\n",
       "      <th>495</th>\n",
       "      <td>Starbucks doesn’t offer bank accounts, but peo...</td>\n",
       "      <td>And the amount has doubled rapidly.</td>\n",
       "    </tr>\n",
       "    <tr>\n",
       "      <th>496</th>\n",
       "      <td>It was 1350º, 1665º, 2960º, and 1270º in the g...</td>\n",
       "      <td>He showed he could take the heat</td>\n",
       "    </tr>\n",
       "    <tr>\n",
       "      <th>497</th>\n",
       "      <td>Right now, Joshua has the perfect resumé: Lond...</td>\n",
       "      <td>The warrior in Anthony Joshua is focused on on...</td>\n",
       "    </tr>\n",
       "    <tr>\n",
       "      <th>498</th>\n",
       "      <td>Halle Berry, Gabriel Aubry and Nahla in London...</td>\n",
       "      <td>Berry and Aubry are co-parenting their daughte...</td>\n",
       "    </tr>\n",
       "    <tr>\n",
       "      <th>499</th>\n",
       "      <td>CHICAGO, Dec. 7— Researchers have confirmed th...</td>\n",
       "      <td>LEAD: Researchers have confirmed that a baby c...</td>\n",
       "    </tr>\n",
       "  </tbody>\n",
       "</table>\n",
       "<p>500 rows × 2 columns</p>\n",
       "</div>"
      ],
      "text/plain": [
       "                                                  text  \\\n",
       "0    By MATT SCHWARTZ in Houston and WENDELL JAMIES...   \n",
       "1    By HOLLY RAMER, Associated Press\\n\\nCONCORD, N...   \n",
       "2    Men in battle-fatigues have raided the Moscow ...   \n",
       "3    Like all gadgets, cellphones can break. In fac...   \n",
       "4    I visited Saudi Arabia in September 2008, arri...   \n",
       "..                                                 ...   \n",
       "495  Starbucks doesn’t offer bank accounts, but peo...   \n",
       "496  It was 1350º, 1665º, 2960º, and 1270º in the g...   \n",
       "497  Right now, Joshua has the perfect resumé: Lond...   \n",
       "498  Halle Berry, Gabriel Aubry and Nahla in London...   \n",
       "499  CHICAGO, Dec. 7— Researchers have confirmed th...   \n",
       "\n",
       "                                               summary  \n",
       "0    Bleeding from a massive chest wound, Tejano st...  \n",
       "1    By HOLLY RAMER, Associated Press CONCORD, N.H....  \n",
       "2    Men in battle-fatigues have&nbsp;raided the Mo...  \n",
       "3    Simple home remedies for repairing your mobile...  \n",
       "4    Hurricane Ike, Ramadan and the billionaire pri...  \n",
       "..                                                 ...  \n",
       "495                And the amount has doubled rapidly.  \n",
       "496                   He showed he could take the heat  \n",
       "497  The warrior in Anthony Joshua is focused on on...  \n",
       "498  Berry and Aubry are co-parenting their daughte...  \n",
       "499  LEAD: Researchers have confirmed that a baby c...  \n",
       "\n",
       "[500 rows x 2 columns]"
      ]
     },
     "execution_count": 91,
     "metadata": {},
     "output_type": "execute_result"
    }
   ],
   "source": [
    "import pandas as pd\n",
    "\n",
    "df = pd.read_csv(\"drive_download/summarization_data_newsroom.csv\")\n",
    "df = df.drop(columns=['density_bin'])\n",
    "df = df[:500]\n",
    "df"
   ]
  },
  {
   "cell_type": "code",
   "execution_count": 92,
   "metadata": {},
   "outputs": [
    {
     "name": "stderr",
     "output_type": "stream",
     "text": [
      "Some weights of the model checkpoint at distilbert-base-uncased were not used when initializing DistilBertModel: ['vocab_transform.bias', 'vocab_layer_norm.bias', 'vocab_projector.weight', 'vocab_projector.bias', 'vocab_layer_norm.weight', 'vocab_transform.weight']\n",
      "- This IS expected if you are initializing DistilBertModel from the checkpoint of a model trained on another task or with another architecture (e.g. initializing a BertForSequenceClassification model from a BertForPreTraining model).\n",
      "- This IS NOT expected if you are initializing DistilBertModel from the checkpoint of a model that you expect to be exactly identical (initializing a BertForSequenceClassification model from a BertForSequenceClassification model).\n"
     ]
    }
   ],
   "source": [
    "Summodel = Summarizer('distilbert-base-uncased')\n",
    "model_name = \"google/flan-t5-base\"\n",
    "\n",
    "pipe = pipeline(\"text2text-generation\",model= model_name)\n",
    "\n",
    "df[\"zsm\"] = df.apply(lambda row : summarizer(row[\"text\"],0.6,Summodel,pipe), axis = 1)\n"
   ]
  },
  {
   "cell_type": "code",
   "execution_count": 93,
   "metadata": {},
   "outputs": [],
   "source": [
    "df = df.drop(index=df[df[\"zsm\"]==\"\"].index).reset_index(drop=True)"
   ]
  },
  {
   "cell_type": "code",
   "execution_count": 94,
   "metadata": {},
   "outputs": [
    {
     "data": {
      "text/html": [
       "<div>\n",
       "<style scoped>\n",
       "    .dataframe tbody tr th:only-of-type {\n",
       "        vertical-align: middle;\n",
       "    }\n",
       "\n",
       "    .dataframe tbody tr th {\n",
       "        vertical-align: top;\n",
       "    }\n",
       "\n",
       "    .dataframe thead th {\n",
       "        text-align: right;\n",
       "    }\n",
       "</style>\n",
       "<table border=\"1\" class=\"dataframe\">\n",
       "  <thead>\n",
       "    <tr style=\"text-align: right;\">\n",
       "      <th></th>\n",
       "      <th>text</th>\n",
       "      <th>summary</th>\n",
       "      <th>zsm</th>\n",
       "    </tr>\n",
       "  </thead>\n",
       "  <tbody>\n",
       "    <tr>\n",
       "      <th>0</th>\n",
       "      <td>By MATT SCHWARTZ in Houston and WENDELL JAMIES...</td>\n",
       "      <td>Bleeding from a massive chest wound, Tejano st...</td>\n",
       "      <td>Bleeding from a massive chest wound, Tejano st...</td>\n",
       "    </tr>\n",
       "    <tr>\n",
       "      <th>1</th>\n",
       "      <td>By HOLLY RAMER, Associated Press\\n\\nCONCORD, N...</td>\n",
       "      <td>By HOLLY RAMER, Associated Press CONCORD, N.H....</td>\n",
       "      <td>CONCORD, N.H. -- A sick American engineer who ...</td>\n",
       "    </tr>\n",
       "    <tr>\n",
       "      <th>2</th>\n",
       "      <td>Men in battle-fatigues have raided the Moscow ...</td>\n",
       "      <td>Men in battle-fatigues have&amp;nbsp;raided the Mo...</td>\n",
       "      <td>men in battle-fatigues raided the headquarters...</td>\n",
       "    </tr>\n",
       "    <tr>\n",
       "      <th>3</th>\n",
       "      <td>Like all gadgets, cellphones can break. In fac...</td>\n",
       "      <td>Simple home remedies for repairing your mobile...</td>\n",
       "      <td>our habit of carrying our phones constantly--e...</td>\n",
       "    </tr>\n",
       "    <tr>\n",
       "      <th>4</th>\n",
       "      <td>I visited Saudi Arabia in September 2008, arri...</td>\n",
       "      <td>Hurricane Ike, Ramadan and the billionaire pri...</td>\n",
       "      <td>I visited Saudi Arabia in September 2008, arri...</td>\n",
       "    </tr>\n",
       "    <tr>\n",
       "      <th>...</th>\n",
       "      <td>...</td>\n",
       "      <td>...</td>\n",
       "      <td>...</td>\n",
       "    </tr>\n",
       "    <tr>\n",
       "      <th>495</th>\n",
       "      <td>Starbucks doesn’t offer bank accounts, but peo...</td>\n",
       "      <td>And the amount has doubled rapidly.</td>\n",
       "      <td>Starbucks is a coffee chain, but it does offer...</td>\n",
       "    </tr>\n",
       "    <tr>\n",
       "      <th>496</th>\n",
       "      <td>It was 1350º, 1665º, 2960º, and 1270º in the g...</td>\n",
       "      <td>He showed he could take the heat</td>\n",
       "      <td>It was 1350o, 1665o, 2960o, and 1270o in Now, ...</td>\n",
       "    </tr>\n",
       "    <tr>\n",
       "      <th>497</th>\n",
       "      <td>Right now, Joshua has the perfect resumé: Lond...</td>\n",
       "      <td>The warrior in Anthony Joshua is focused on on...</td>\n",
       "      <td>Joshua has the perfect resumé: London 2012 Oly...</td>\n",
       "    </tr>\n",
       "    <tr>\n",
       "      <th>498</th>\n",
       "      <td>Halle Berry, Gabriel Aubry and Nahla in London...</td>\n",
       "      <td>Berry and Aubry are co-parenting their daughte...</td>\n",
       "      <td>Halle Berry and her ex Gabriel Aubry are repor...</td>\n",
       "    </tr>\n",
       "    <tr>\n",
       "      <th>499</th>\n",
       "      <td>CHICAGO, Dec. 7— Researchers have confirmed th...</td>\n",
       "      <td>LEAD: Researchers have confirmed that a baby c...</td>\n",
       "      <td>Researchers have confirmed that a baby can ing...</td>\n",
       "    </tr>\n",
       "  </tbody>\n",
       "</table>\n",
       "<p>500 rows × 3 columns</p>\n",
       "</div>"
      ],
      "text/plain": [
       "                                                  text  \\\n",
       "0    By MATT SCHWARTZ in Houston and WENDELL JAMIES...   \n",
       "1    By HOLLY RAMER, Associated Press\\n\\nCONCORD, N...   \n",
       "2    Men in battle-fatigues have raided the Moscow ...   \n",
       "3    Like all gadgets, cellphones can break. In fac...   \n",
       "4    I visited Saudi Arabia in September 2008, arri...   \n",
       "..                                                 ...   \n",
       "495  Starbucks doesn’t offer bank accounts, but peo...   \n",
       "496  It was 1350º, 1665º, 2960º, and 1270º in the g...   \n",
       "497  Right now, Joshua has the perfect resumé: Lond...   \n",
       "498  Halle Berry, Gabriel Aubry and Nahla in London...   \n",
       "499  CHICAGO, Dec. 7— Researchers have confirmed th...   \n",
       "\n",
       "                                               summary  \\\n",
       "0    Bleeding from a massive chest wound, Tejano st...   \n",
       "1    By HOLLY RAMER, Associated Press CONCORD, N.H....   \n",
       "2    Men in battle-fatigues have&nbsp;raided the Mo...   \n",
       "3    Simple home remedies for repairing your mobile...   \n",
       "4    Hurricane Ike, Ramadan and the billionaire pri...   \n",
       "..                                                 ...   \n",
       "495                And the amount has doubled rapidly.   \n",
       "496                   He showed he could take the heat   \n",
       "497  The warrior in Anthony Joshua is focused on on...   \n",
       "498  Berry and Aubry are co-parenting their daughte...   \n",
       "499  LEAD: Researchers have confirmed that a baby c...   \n",
       "\n",
       "                                                   zsm  \n",
       "0    Bleeding from a massive chest wound, Tejano st...  \n",
       "1    CONCORD, N.H. -- A sick American engineer who ...  \n",
       "2    men in battle-fatigues raided the headquarters...  \n",
       "3    our habit of carrying our phones constantly--e...  \n",
       "4    I visited Saudi Arabia in September 2008, arri...  \n",
       "..                                                 ...  \n",
       "495  Starbucks is a coffee chain, but it does offer...  \n",
       "496  It was 1350o, 1665o, 2960o, and 1270o in Now, ...  \n",
       "497  Joshua has the perfect resumé: London 2012 Oly...  \n",
       "498  Halle Berry and her ex Gabriel Aubry are repor...  \n",
       "499  Researchers have confirmed that a baby can ing...  \n",
       "\n",
       "[500 rows x 3 columns]"
      ]
     },
     "execution_count": 94,
     "metadata": {},
     "output_type": "execute_result"
    }
   ],
   "source": [
    "df"
   ]
  },
  {
   "cell_type": "code",
   "execution_count": 95,
   "metadata": {},
   "outputs": [
    {
     "name": "stdout",
     "output_type": "stream",
     "text": [
      "{'rouge1': 0.19431937791423598, 'rouge2': 0.08712874610235541, 'rougeL': 0.14453400582566894, 'rougeLsum': 0.14502872371943992}\n"
     ]
    }
   ],
   "source": [
    "import evaluate\n",
    "\n",
    "rouge = evaluate.load('rouge')\n",
    "results = rouge.compute(predictions=df[\"zsm\"],\n",
    "                        references=df[\"summary\"])\n",
    "print(results)"
   ]
  }
 ],
 "metadata": {
  "kernelspec": {
   "display_name": "Python 3",
   "language": "python",
   "name": "python3"
  },
  "language_info": {
   "codemirror_mode": {
    "name": "ipython",
    "version": 3
   },
   "file_extension": ".py",
   "mimetype": "text/x-python",
   "name": "python",
   "nbconvert_exporter": "python",
   "pygments_lexer": "ipython3",
   "version": "3.8.13"
  },
  "orig_nbformat": 4
 },
 "nbformat": 4,
 "nbformat_minor": 2
}
