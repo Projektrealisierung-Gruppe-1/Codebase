{
 "cells": [
  {
   "cell_type": "code",
   "execution_count": 1,
   "metadata": {},
   "outputs": [
    {
     "name": "stderr",
     "output_type": "stream",
     "text": [
      "/opt/anaconda3/envs/prjenv/lib/python3.11/site-packages/tqdm/auto.py:21: TqdmWarning: IProgress not found. Please update jupyter and ipywidgets. See https://ipywidgets.readthedocs.io/en/stable/user_install.html\n",
      "  from .autonotebook import tqdm as notebook_tqdm\n"
     ]
    },
    {
     "name": "stdout",
     "output_type": "stream",
     "text": [
      "bert-base-uncased\n"
     ]
    },
    {
     "name": "stderr",
     "output_type": "stream",
     "text": [
      "Some weights of the model checkpoint at bert-base-uncased were not used when initializing BertForSequenceClassification: ['cls.predictions.transform.LayerNorm.weight', 'cls.predictions.transform.dense.bias', 'cls.predictions.transform.LayerNorm.bias', 'cls.seq_relationship.bias', 'cls.seq_relationship.weight', 'cls.predictions.bias', 'cls.predictions.transform.dense.weight']\n",
      "- This IS expected if you are initializing BertForSequenceClassification from the checkpoint of a model trained on another task or with another architecture (e.g. initializing a BertForSequenceClassification model from a BertForPreTraining model).\n",
      "- This IS NOT expected if you are initializing BertForSequenceClassification from the checkpoint of a model that you expect to be exactly identical (initializing a BertForSequenceClassification model from a BertForSequenceClassification model).\n",
      "Some weights of BertForSequenceClassification were not initialized from the model checkpoint at bert-base-uncased and are newly initialized: ['classifier.weight', 'classifier.bias']\n",
      "You should probably TRAIN this model on a down-stream task to be able to use it for predictions and inference.\n",
      "/var/folders/d0/_y2f7ycs76b8ryly86zqzgw00000gn/T/ipykernel_19664/1584072366.py:57: FutureWarning: load_metric is deprecated and will be removed in the next major version of datasets. Use 'evaluate.load' instead, from the new library 🤗 Evaluate: https://huggingface.co/docs/evaluate\n",
      "  metric = load_metric(\"accuracy\")\n",
      "2023/06/14 20:50:13 WARNING mlflow.utils.autologging_utils: You are using an unsupported version of transformers. If you encounter errors during autologging, try upgrading / downgrading transformers to a supported version, or try upgrading MLflow.\n",
      "2023/06/14 20:50:13 INFO mlflow.tracking.fluent: Autologging successfully enabled for transformers.\n",
      "2023/06/14 20:50:14 INFO mlflow.tracking.fluent: Autologging successfully enabled for sklearn.\n",
      "/opt/anaconda3/envs/prjenv/lib/python3.11/site-packages/transformers/optimization.py:411: FutureWarning: This implementation of AdamW is deprecated and will be removed in a future version. Use the PyTorch implementation torch.optim.AdamW instead, or set `no_deprecation_warning=True` to disable this warning\n",
      "  warnings.warn(\n"
     ]
    },
    {
     "name": "stdout",
     "output_type": "stream",
     "text": [
      "huggingface/tokenizers: The current process just got forked, after parallelism has already been used. Disabling parallelism to avoid deadlocks...\n",
      "To disable this warning, you can either:\n",
      "\t- Avoid using `tokenizers` before the fork if possible\n",
      "\t- Explicitly set the environment variable TOKENIZERS_PARALLELISM=(true | false)\n",
      "huggingface/tokenizers: The current process just got forked, after parallelism has already been used. Disabling parallelism to avoid deadlocks...\n",
      "To disable this warning, you can either:\n",
      "\t- Avoid using `tokenizers` before the fork if possible\n",
      "\t- Explicitly set the environment variable TOKENIZERS_PARALLELISM=(true | false)\n",
      "huggingface/tokenizers: The current process just got forked, after parallelism has already been used. Disabling parallelism to avoid deadlocks...\n",
      "To disable this warning, you can either:\n",
      "\t- Avoid using `tokenizers` before the fork if possible\n",
      "\t- Explicitly set the environment variable TOKENIZERS_PARALLELISM=(true | false)\n"
     ]
    },
    {
     "name": "stderr",
     "output_type": "stream",
     "text": [
      "  0%|          | 0/3150 [00:00<?, ?it/s]You're using a BertTokenizerFast tokenizer. Please note that with a fast tokenizer, using the `__call__` method is faster than using a method to encode the text followed by a call to the `pad` method to get a padded encoding.\n",
      "  0%|          | 2/3150 [1:50:39<3397:03:47, 3884.82s/it]"
     ]
    }
   ],
   "source": [
    "mlist = [\n",
    "\"bert-base-uncased\",\n",
    "\"Yueh-Huan/news-category-classification-distilbert\",\n",
    "\"abhishek/autonlp-bbc-news-classification-37229289\"\n",
    "]\n",
    "\n",
    "import pandas as pd\n",
    "from datasets import Dataset, DatasetDict\n",
    "from sklearn.model_selection import train_test_split\n",
    "import mlflow\n",
    "\n",
    "\n",
    "df = pd.read_csv('complete_data_subset.csv')\n",
    "df.kategorie_id = df.kategorie_id - 1\n",
    "df = df.rename(columns={\"kategorie_id\":\"label\", \"inhalt\":\"text\"})\n",
    "df = df.drop(columns=['kategorie_bezeichnung', 'titel', 'inhalt_kurz'])\n",
    "df = df[df['text'].notna()]\n",
    "traindf, testdf = train_test_split(df, test_size=0.2)\n",
    "\n",
    "train = Dataset.from_pandas(traindf)\n",
    "test = Dataset.from_pandas(testdf)\n",
    "\n",
    "\n",
    "dataset = DatasetDict()\n",
    "\n",
    "dataset['train'] = train\n",
    "dataset['test'] = test\n",
    "\n",
    "for x in mlist:\n",
    "  # %%\n",
    "  print(x)\n",
    "  # %%\n",
    "  from transformers import AutoTokenizer\n",
    "  model_name = x\n",
    "\n",
    "  tokenizer = AutoTokenizer.from_pretrained(model_name)\n",
    "  # %%\n",
    "\n",
    "  def preprocess_function(examples):\n",
    "      return tokenizer(examples[\"text\"], truncation=True)\n",
    "\n",
    "  tokenized_datasets = dataset.map(preprocess_function, batched=True)\n",
    "  # %%\n",
    "  from transformers import DataCollatorWithPadding\n",
    "\n",
    "  data_collator = DataCollatorWithPadding(tokenizer=tokenizer)\n",
    "  # %%\n",
    "  from transformers import AutoModelForSequenceClassification, TrainingArguments, Trainer\n",
    "\n",
    "  model = AutoModelForSequenceClassification.from_pretrained(model_name, \n",
    "                                                            num_labels=7,\n",
    "                                                            ignore_mismatched_sizes=True)\n",
    "  # %%\n",
    "  import numpy as np\n",
    "  from datasets import load_metric\n",
    "  metric = load_metric(\"accuracy\")\n",
    "  #%%\n",
    "  def compute_metrics(eval_pred):\n",
    "    logits, labels = eval_pred\n",
    "    predictions = np.argmax(logits, axis=-1)\n",
    "    return metric.compute(predictions=predictions, references=labels)\n",
    "  # %%\n",
    "  num_epochs = 2\n",
    "\n",
    "  args = TrainingArguments(\n",
    "      output_dir ='./results',          \n",
    "      num_train_epochs = num_epochs,\n",
    "      per_device_train_batch_size = 16,   \n",
    "      per_device_eval_batch_size = 16,   \n",
    "      weight_decay = 0.01,               \n",
    "      learning_rate = 2e-5,             \n",
    "      metric_for_best_model = 'accuracy',    \n",
    "      evaluation_strategy = \"epoch\",\n",
    "      )\n",
    "\n",
    "\n",
    "  trainer = Trainer(\n",
    "      model,\n",
    "      args,\n",
    "      train_dataset=tokenized_datasets['train'],\n",
    "      eval_dataset=tokenized_datasets['test'],\n",
    "      tokenizer=tokenizer,\n",
    "      data_collator=data_collator,\n",
    "      compute_metrics=compute_metrics\n",
    "  )  \n",
    "  mlflow.autolog()\n",
    "  trainer.train()\n",
    "  mlflow.log_param(\"model\",x)"
   ]
  }
 ],
 "metadata": {
  "kernelspec": {
   "display_name": "prjenv",
   "language": "python",
   "name": "python3"
  },
  "language_info": {
   "codemirror_mode": {
    "name": "ipython",
    "version": 3
   },
   "file_extension": ".py",
   "mimetype": "text/x-python",
   "name": "python",
   "nbconvert_exporter": "python",
   "pygments_lexer": "ipython3",
   "version": "3.11.3"
  },
  "orig_nbformat": 4
 },
 "nbformat": 4,
 "nbformat_minor": 2
}
