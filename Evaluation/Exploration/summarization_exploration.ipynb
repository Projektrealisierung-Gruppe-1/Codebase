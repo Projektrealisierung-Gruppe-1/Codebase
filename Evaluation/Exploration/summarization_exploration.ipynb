{
 "cells": [
  {
   "cell_type": "markdown",
   "metadata": {},
   "source": [
    "Daten importieren und Überblick erhalten"
   ]
  },
  {
   "cell_type": "code",
   "execution_count": 1,
   "metadata": {},
   "outputs": [],
   "source": [
    "import pandas as pd\n",
    "\n",
    "df = pd.read_csv('summarization_data_newsroom.csv')"
   ]
  },
  {
   "cell_type": "code",
   "execution_count": 2,
   "metadata": {},
   "outputs": [
    {
     "data": {
      "text/plain": [
       "108862"
      ]
     },
     "execution_count": 2,
     "metadata": {},
     "output_type": "execute_result"
    }
   ],
   "source": [
    "len(df)"
   ]
  },
  {
   "cell_type": "code",
   "execution_count": 2,
   "metadata": {},
   "outputs": [
    {
     "data": {
      "text/html": [
       "<div>\n",
       "<style scoped>\n",
       "    .dataframe tbody tr th:only-of-type {\n",
       "        vertical-align: middle;\n",
       "    }\n",
       "\n",
       "    .dataframe tbody tr th {\n",
       "        vertical-align: top;\n",
       "    }\n",
       "\n",
       "    .dataframe thead th {\n",
       "        text-align: right;\n",
       "    }\n",
       "</style>\n",
       "<table border=\"1\" class=\"dataframe\">\n",
       "  <thead>\n",
       "    <tr style=\"text-align: right;\">\n",
       "      <th></th>\n",
       "      <th>text</th>\n",
       "      <th>summary</th>\n",
       "      <th>density_bin</th>\n",
       "    </tr>\n",
       "  </thead>\n",
       "  <tbody>\n",
       "    <tr>\n",
       "      <th>0</th>\n",
       "      <td>By MATT SCHWARTZ in Houston and WENDELL JAMIES...</td>\n",
       "      <td>Bleeding from a massive chest wound, Tejano st...</td>\n",
       "      <td>extractive</td>\n",
       "    </tr>\n",
       "    <tr>\n",
       "      <th>1</th>\n",
       "      <td>By HOLLY RAMER, Associated Press\\n\\nCONCORD, N...</td>\n",
       "      <td>By HOLLY RAMER, Associated Press CONCORD, N.H....</td>\n",
       "      <td>extractive</td>\n",
       "    </tr>\n",
       "    <tr>\n",
       "      <th>2</th>\n",
       "      <td>Men in battle-fatigues have raided the Moscow ...</td>\n",
       "      <td>Men in battle-fatigues have&amp;nbsp;raided the Mo...</td>\n",
       "      <td>mixed</td>\n",
       "    </tr>\n",
       "    <tr>\n",
       "      <th>3</th>\n",
       "      <td>Like all gadgets, cellphones can break. In fac...</td>\n",
       "      <td>Simple home remedies for repairing your mobile...</td>\n",
       "      <td>abstractive</td>\n",
       "    </tr>\n",
       "    <tr>\n",
       "      <th>4</th>\n",
       "      <td>I visited Saudi Arabia in September 2008, arri...</td>\n",
       "      <td>Hurricane Ike, Ramadan and the billionaire pri...</td>\n",
       "      <td>abstractive</td>\n",
       "    </tr>\n",
       "  </tbody>\n",
       "</table>\n",
       "</div>"
      ],
      "text/plain": [
       "                                                text  \\\n",
       "0  By MATT SCHWARTZ in Houston and WENDELL JAMIES...   \n",
       "1  By HOLLY RAMER, Associated Press\\n\\nCONCORD, N...   \n",
       "2  Men in battle-fatigues have raided the Moscow ...   \n",
       "3  Like all gadgets, cellphones can break. In fac...   \n",
       "4  I visited Saudi Arabia in September 2008, arri...   \n",
       "\n",
       "                                             summary  density_bin  \n",
       "0  Bleeding from a massive chest wound, Tejano st...   extractive  \n",
       "1  By HOLLY RAMER, Associated Press CONCORD, N.H....   extractive  \n",
       "2  Men in battle-fatigues have&nbsp;raided the Mo...        mixed  \n",
       "3  Simple home remedies for repairing your mobile...  abstractive  \n",
       "4  Hurricane Ike, Ramadan and the billionaire pri...  abstractive  "
      ]
     },
     "execution_count": 2,
     "metadata": {},
     "output_type": "execute_result"
    }
   ],
   "source": [
    "df.head()"
   ]
  },
  {
   "cell_type": "code",
   "execution_count": null,
   "metadata": {},
   "outputs": [],
   "source": [
    "df.kategorie_id = df.kategorie_id - 1\n",
    "df = df.rename(columns={\"kategorie_id\":\"label\", \"inhalt\":\"text\"})\n",
    "df = df.drop(columns=['kategorie_bezeichnung', 'titel', 'inhalt_kurz'])\n",
    "df = df[df['text'].notna()]\n",
    "df"
   ]
  },
  {
   "cell_type": "code",
   "execution_count": null,
   "metadata": {},
   "outputs": [],
   "source": [
    "df.label.value_counts()"
   ]
  }
 ],
 "metadata": {
  "kernelspec": {
   "display_name": "Python 3",
   "language": "python",
   "name": "python3"
  },
  "language_info": {
   "codemirror_mode": {
    "name": "ipython",
    "version": 3
   },
   "file_extension": ".py",
   "mimetype": "text/x-python",
   "name": "python",
   "nbconvert_exporter": "python",
   "pygments_lexer": "ipython3",
   "version": "3.8.13"
  },
  "orig_nbformat": 4
 },
 "nbformat": 4,
 "nbformat_minor": 2
}
