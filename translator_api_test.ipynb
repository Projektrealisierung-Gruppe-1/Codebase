{
 "cells": [
  {
   "cell_type": "code",
   "execution_count": 20,
   "metadata": {},
   "outputs": [
    {
     "name": "stdout",
     "output_type": "stream",
     "text": [
      "None\n"
     ]
    }
   ],
   "source": [
    "# Test API Access to the deepl translator\n",
    "\n",
    "## Imports \n",
    "import deepl\n",
    "import requests\n",
    "\n",
    "## Function\n",
    "def deepl_api_translator(text_to_translate, target_language, deepl_auth_key):\n",
    "   ''' Access the free deepl api and translate the input text (variable: text_to_translate) to\n",
    "       a target langugage (variable: target_language). The auth key is valid. \n",
    "\n",
    "   '''\n",
    "   response = requests.post(\n",
    "            url=\"https://api-free.deepl.com/v2/translate\", \n",
    "            data={\n",
    "               \"target_lang\": target_language,\n",
    "               \"auth_key\": deepl_auth_key,\n",
    "               \"text\": text_to_translate,\n",
    "            },       \n",
    "            verify= False,      \n",
    "            )\n",
    "\n",
    "text_to_translate = 'Dies ist ein Beispiel'\n",
    "target_language = 'en-us'\n",
    "deepl_auth_key = 'DeepL-Auth-Key 48d536e5-c497-387b-65df-4afbc7a0d15b'\n",
    "\n",
    "\n",
    "print(deepl_api_translator(text_to_translate, target_language, deepl_auth_key))\n"
   ]
  }
 ],
 "metadata": {
  "kernelspec": {
   "display_name": "Python 3",
   "language": "python",
   "name": "python3"
  },
  "language_info": {
   "codemirror_mode": {
    "name": "ipython",
    "version": 3
   },
   "file_extension": ".py",
   "mimetype": "text/x-python",
   "name": "python",
   "nbconvert_exporter": "python",
   "pygments_lexer": "ipython3",
   "version": "3.10.5"
  },
  "orig_nbformat": 4
 },
 "nbformat": 4,
 "nbformat_minor": 2
}
